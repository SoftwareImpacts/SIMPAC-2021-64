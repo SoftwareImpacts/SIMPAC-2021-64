{
 "cells": [
  {
   "cell_type": "markdown",
   "id": "2b1404a9",
   "metadata": {},
   "source": [
    "# Mediator Recipe"
   ]
  },
  {
   "cell_type": "markdown",
   "id": "40a2dbfb",
   "metadata": {},
   "source": [
    "### imports"
   ]
  },
  {
   "cell_type": "code",
   "execution_count": 1,
   "id": "13cf1088",
   "metadata": {},
   "outputs": [],
   "source": [
    "from aries_cloudcontroller import AriesAgentController\n",
    "import os\n",
    "import asyncio\n",
    "from termcolor import colored"
   ]
  },
  {
   "cell_type": "markdown",
   "id": "83e164fc",
   "metadata": {},
   "source": [
    "## Initialise Agent"
   ]
  },
  {
   "cell_type": "code",
   "execution_count": 2,
   "id": "893eae74",
   "metadata": {},
   "outputs": [
    {
     "name": "stdout",
     "output_type": "stream",
     "text": [
      "Initialising a controller with admin api at http://mediator-agent:3021 and an api key of adminApiKey\n"
     ]
    }
   ],
   "source": [
    "api_key = os.getenv(\"ACAPY_ADMIN_API_KEY\")\n",
    "admin_url = os.getenv(\"ADMIN_URL\")\n",
    "\n",
    "print(f\"Initialising a controller with admin api at {admin_url} and an api key of {api_key}\")\n",
    "agent_controller = AriesAgentController(admin_url,api_key)"
   ]
  },
  {
   "cell_type": "code",
   "execution_count": 3,
   "id": "0e06f3ae",
   "metadata": {},
   "outputs": [
    {
     "name": "stdout",
     "output_type": "stream",
     "text": [
      "Listening for webhooks from agent at http://0.0.0.0:3010\n"
     ]
    }
   ],
   "source": [
    "webhook_port = int(os.getenv(\"WEBHOOK_PORT\"))\n",
    "webhook_host = \"0.0.0.0\"\n",
    "\n",
    "await agent_controller.init_webhook_server(webhook_host, webhook_port)\n",
    "\n",
    "print(f\"Listening for webhooks from agent at http://{webhook_host}:{webhook_port}\")"
   ]
  },
  {
   "cell_type": "markdown",
   "id": "61e3ee82",
   "metadata": {},
   "source": [
    "## Register Listeners"
   ]
  },
  {
   "cell_type": "code",
   "execution_count": 4,
   "id": "9555775e",
   "metadata": {},
   "outputs": [],
   "source": [
    "\n",
    "def connection_handler(payload):\n",
    "    print(\"Connection Handler Called\")\n",
    "    connection_id = payload[\"connection_id\"]\n",
    "    state = payload[\"state\"]\n",
    "    print(f\"Connection {connection_id} in State {state}\")\n",
    "    if state == \"invitation\":\n",
    "        # Your business logic\n",
    "        print(\"invitation\")\n",
    "    elif state == \"checkRecords\":\n",
    "        # Your business logic\n",
    "        print(\"check\")\n",
    "    elif state == \"response\":\n",
    "        # Your business logic\n",
    "        print(\"response\")\n",
    "    elif state == \"active\":\n",
    "        # Your business logic\n",
    "        print(colored(\"Connection ID: {0} is now active.\".format(connection_id), \"green\", attrs=[\"bold\"]))\n",
    "    \n",
    "connection_listener = {\n",
    "    \"handler\": connection_handler,\n",
    "    \"topic\": \"connections\"\n",
    "}\n",
    "\n",
    "agent_controller.register_listeners([connection_listener], defaults=True)\n",
    "\n",
    "\n"
   ]
  },
  {
   "cell_type": "markdown",
   "id": "8b97158b",
   "metadata": {},
   "source": [
    "### Create Multi-Use Mediation Invitation\n",
    "\n",
    "Note you could create single use invitations too, but likely as a mediator you would want the invitation to be multi-use"
   ]
  },
  {
   "cell_type": "code",
   "execution_count": 5,
   "id": "087045ac",
   "metadata": {},
   "outputs": [
    {
     "name": "stdout",
     "output_type": "stream",
     "text": [
      "Connection Handler Called\n",
      "Connection 85a76bd1-b5dd-48d5-b5a8-feab72d0f4a4 in State invitation\n",
      "invitation\n",
      "Connection ID 85a76bd1-b5dd-48d5-b5a8-feab72d0f4a4\n",
      "Invitation\n",
      "{'@type': 'did:sov:BzCbsNYhMrjHiqZDTUASHg;spec/connections/1.0/invitation', '@id': '0ea5e233-7d65-41b6-bf39-d22c3b6bc6f8', 'label': 'MediatorAgent', 'serviceEndpoint': 'https://8dee682d2e61.ngrok.io', 'recipientKeys': ['3cVWmAw4Y6gLt2e2B3qEHuXHKx3rQh761F4XZ5tFgXsZ']}\n"
     ]
    }
   ],
   "source": [
    "# Create Invitation\n",
    "invite = await agent_controller.connections.create_invitation(multi_use=\"true\")\n",
    "connection_id = invite[\"connection_id\"]\n",
    "invite_message = invite['invitation']\n",
    "print(\"Connection ID\", connection_id)\n",
    "print(\"Invitation\")\n",
    "print(invite_message)"
   ]
  },
  {
   "cell_type": "markdown",
   "id": "ed327050",
   "metadata": {},
   "source": [
    "## Check Mediation Requests"
   ]
  },
  {
   "cell_type": "code",
   "execution_count": null,
   "id": "1ca97fb6",
   "metadata": {},
   "outputs": [],
   "source": [
    "### To have a look at the mediation records and we should see our mediation in there\n",
    "records_response = await agent_controller.mediation.get_mediation_records()\n",
    "print(records_response)\n"
   ]
  },
  {
   "cell_type": "markdown",
   "id": "1d526aab",
   "metadata": {},
   "source": [
    "## Grant Mediation Requests\n",
    "\n",
    "If not handled automatically"
   ]
  },
  {
   "cell_type": "code",
   "execution_count": null,
   "id": "0309450f",
   "metadata": {},
   "outputs": [],
   "source": [
    "grant = await agent_controller.mediation.grant_mediation_request_by_id(records_response[0][\"mediation_id\"])\n",
    "print(grant)"
   ]
  },
  {
   "cell_type": "markdown",
   "id": "1337c4b4",
   "metadata": {},
   "source": [
    "## Terminate Controller"
   ]
  },
  {
   "cell_type": "code",
   "execution_count": 6,
   "id": "408337cf",
   "metadata": {},
   "outputs": [],
   "source": [
    "await agent_controller.terminate()"
   ]
  },
  {
   "cell_type": "code",
   "execution_count": null,
   "id": "5a845308",
   "metadata": {},
   "outputs": [],
   "source": []
  }
 ],
 "metadata": {
  "kernelspec": {
   "display_name": "Python 3",
   "language": "python",
   "name": "python3"
  },
  "language_info": {
   "codemirror_mode": {
    "name": "ipython",
    "version": 3
   },
   "file_extension": ".py",
   "mimetype": "text/x-python",
   "name": "python",
   "nbconvert_exporter": "python",
   "pygments_lexer": "ipython3",
   "version": "3.7.6"
  }
 },
 "nbformat": 4,
 "nbformat_minor": 5
}
