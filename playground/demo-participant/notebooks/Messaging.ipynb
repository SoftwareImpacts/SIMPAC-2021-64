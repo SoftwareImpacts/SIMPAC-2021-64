{
 "cells": [
  {
   "cell_type": "markdown",
   "id": "3f335a1d",
   "metadata": {},
   "source": [
    "# Messaging\n"
   ]
  },
  {
   "cell_type": "markdown",
   "id": "2c1794fd",
   "metadata": {},
   "source": [
    "### Imports"
   ]
  },
  {
   "cell_type": "code",
   "execution_count": 1,
   "id": "5507905d",
   "metadata": {},
   "outputs": [],
   "source": [
    "from aries_cloudcontroller import AriesAgentController\n",
    "import os\n",
    "from termcolor import colored\n",
    "import asyncio\n",
    "\n",
    "\n",
    "from libs.messaging_service import MessagingService"
   ]
  },
  {
   "cell_type": "markdown",
   "id": "1be73990",
   "metadata": {},
   "source": [
    "### Initialise the Agent Controller"
   ]
  },
  {
   "cell_type": "code",
   "execution_count": 2,
   "id": "7608f79a",
   "metadata": {},
   "outputs": [
    {
     "name": "stdout",
     "output_type": "stream",
     "text": [
      "Initialising a controller with admin api at http://demo-participant-agent:3021 and an api key of demo-participantsSecretApiKey\n"
     ]
    }
   ],
   "source": [
    "api_key = os.getenv(\"ACAPY_ADMIN_API_KEY\")\n",
    "admin_url = os.getenv(\"ADMIN_URL\")\n",
    "\n",
    "print(f\"Initialising a controller with admin api at {admin_url} and an api key of {api_key}\")\n",
    "agent_controller = AriesAgentController(admin_url,api_key)"
   ]
  },
  {
   "cell_type": "markdown",
   "id": "ab179827",
   "metadata": {},
   "source": [
    "### Start a Webhook Server"
   ]
  },
  {
   "cell_type": "code",
   "execution_count": 3,
   "id": "0263ef33",
   "metadata": {},
   "outputs": [
    {
     "name": "stdout",
     "output_type": "stream",
     "text": [
      "Listening for webhooks from agent at http://0.0.0.0:3010\n"
     ]
    }
   ],
   "source": [
    "webhook_port = int(os.getenv(\"WEBHOOK_PORT\"))\n",
    "webhook_host = \"0.0.0.0\"\n",
    "\n",
    "await agent_controller.init_webhook_server(webhook_host, webhook_port)\n",
    "\n",
    "print(f\"Listening for webhooks from agent at http://{webhook_host}:{webhook_port}\")"
   ]
  },
  {
   "cell_type": "markdown",
   "id": "e4c7e27d",
   "metadata": {},
   "source": [
    "## Instatiate Messaging Service"
   ]
  },
  {
   "cell_type": "code",
   "execution_count": 4,
   "id": "ad863b87",
   "metadata": {},
   "outputs": [],
   "source": [
    "messaging_service = MessagingService(agent_controller)"
   ]
  },
  {
   "cell_type": "markdown",
   "id": "ca1ff47a",
   "metadata": {},
   "source": [
    "## Add Contact"
   ]
  },
  {
   "cell_type": "markdown",
   "id": "9f474ce8",
   "metadata": {},
   "source": [
    "### Either from Invitation Shared"
   ]
  },
  {
   "cell_type": "code",
   "execution_count": 5,
   "id": "2bf596bf",
   "metadata": {},
   "outputs": [],
   "source": [
    "invitation = {\"@type\": \"did:sov:BzCbsNYhMrjHiqZDTUASHg;spec/connections/1.0/invitation\", \"@id\": \"b352adae-24fe-44d0-a6dc-43c853242d17\", \"serviceEndpoint\": \"https://3a8742dc608e.ngrok.io\", \"label\": \"Hyperledger Global Forum\", \"recipientKeys\": [\"JE9d6umnBNqrdftsa9nLG2ExkzjdyVPrG9ghGMZ7UNxP\"]}\n"
   ]
  },
  {
   "cell_type": "code",
   "execution_count": 6,
   "id": "4d942183",
   "metadata": {},
   "outputs": [
    {
     "name": "stdout",
     "output_type": "stream",
     "text": [
      "Contact with ID 9f096450-fa37-499b-9016-72360495076b and alias HLGF added\n",
      "\u001b[1m\u001b[32mContact with ID: 9f096450-fa37-499b-9016-72360495076b and alias HLGF is now active.\u001b[0m\n"
     ]
    }
   ],
   "source": [
    "new_contact_id = messaging_service.accept_contact_invitation(invitation, \"HLGF\")"
   ]
  },
  {
   "cell_type": "markdown",
   "id": "5a259b4d",
   "metadata": {},
   "source": [
    "### Or by Creating and Sharing an Invite"
   ]
  },
  {
   "cell_type": "code",
   "execution_count": 13,
   "id": "451440a3",
   "metadata": {},
   "outputs": [
    {
     "name": "stdout",
     "output_type": "stream",
     "text": [
      "Contact with ID 7069051b-0ea6-427b-8fea-3421f41e1035 and alias HLGF added\n",
      "----------------------------------------------------------------------------------------------------\n",
      "\n",
      "Share this invite object with another entity you wish to add as a contact under alias HLGF\n",
      "\n",
      "{\"@type\": \"did:sov:BzCbsNYhMrjHiqZDTUASHg;spec/connections/1.0/invitation\", \"@id\": \"520fda73-c3df-4be4-a34a-5dd79f3c289b\", \"serviceEndpoint\": \"https://b7809cc28248.ngrok.io\", \"label\": \"Demo Participant\", \"recipientKeys\": [\"DyZpe9vf8Fd6DYBkMXwFoxGcqr3kAvfTBNLau17DgdN8\"]}\n",
      "\n",
      "\n",
      "----------------------------------------------------------------------------------------------------\n"
     ]
    }
   ],
   "source": [
    "alias = \"HLGF\"\n",
    "response = messaging_service.new_contact_invite(alias)\n",
    "\n",
    "# If you want to display as Q.R for example\n",
    "invitation = response[\"invitation\"]\n",
    "\n",
    "new_contact_id = response[\"connection_id\"]"
   ]
  },
  {
   "cell_type": "markdown",
   "id": "96712d8a",
   "metadata": {},
   "source": [
    "## Send Message to Contact by Connection ID"
   ]
  },
  {
   "cell_type": "code",
   "execution_count": 9,
   "id": "ad76e3b4",
   "metadata": {},
   "outputs": [],
   "source": [
    "some_arbitrary_sized_message = \"Hey how are you, want to grab a coffee?\"\n",
    "messaging_service.send_message(new_contact_id, some_arbitrary_sized_message)"
   ]
  },
  {
   "cell_type": "markdown",
   "id": "f6d44b7a",
   "metadata": {},
   "source": [
    "## Display Inbox for Contact"
   ]
  },
  {
   "cell_type": "code",
   "execution_count": 10,
   "id": "0a2f6475",
   "metadata": {},
   "outputs": [
    {
     "name": "stdout",
     "output_type": "stream",
     "text": [
      "--------------------------------------------------\n",
      "Inbox for Contact HLGF\n",
      "--------------------------------------------------\n",
      "Connection ID : 9f096450-fa37-499b-9016-72360495076b \n",
      "Agent Label : Hyperledger Global Forum \n",
      "Total Messages : 2\n",
      "--------------------------------------------------\n",
      "Received                                      Sent\n",
      "--------------------------------------------------\n",
      "Thu Jun  3 14:57:57 2021\n",
      "                         Want to grab a coffee? \n",
      "--------------------------------------------------\n",
      "Thu Jun  3 14:58:14 2021\n",
      "                         Hey how are you, want to grab \n",
      "                         a coffee? \n",
      "--------------------------------------------------\n"
     ]
    }
   ],
   "source": [
    "messaging_service.display_inbox_for_contact(new_contact_id)"
   ]
  },
  {
   "cell_type": "markdown",
   "id": "9d375a3c",
   "metadata": {},
   "source": [
    "## Get Contacts"
   ]
  },
  {
   "cell_type": "code",
   "execution_count": 14,
   "id": "2c095b8f",
   "metadata": {},
   "outputs": [
    {
     "name": "stdout",
     "output_type": "stream",
     "text": [
      "--------------------------------------------------\n",
      "2 Contacts\n",
      "--------------------------------------------------\n",
      "Contact HLGF\n",
      "ID: 9f096450-fa37-499b-9016-72360495076b \n",
      "Label: Hyperledger Global Forum\n",
      "Status : ACTIVE \n",
      "Messages 2 \n",
      "--------------------------------------------------\n",
      "Contact HLGF\n",
      "ID: 7069051b-0ea6-427b-8fea-3421f41e1035 \n",
      "Label: None\n",
      "Status : INACTIVE \n",
      "Messages 0 \n",
      "--------------------------------------------------\n",
      "\n"
     ]
    }
   ],
   "source": [
    "messaging_service.view_inbox(show_inactive=True)"
   ]
  },
  {
   "cell_type": "code",
   "execution_count": 12,
   "id": "b120e163",
   "metadata": {},
   "outputs": [
    {
     "name": "stdout",
     "output_type": "stream",
     "text": [
      "HLGF : 9f096450-fa37-499b-9016-72360495076b\n",
      "True\n",
      "{'connection_id': '9f096450-fa37-499b-9016-72360495076b', 'alias': 'HLGF', 'agent_label': 'Hyperledger Global Forum', 'inbox': [<libs.messaging_service.message.Message object at 0x7fa77348b4d0>, <libs.messaging_service.message.Message object at 0x7fa773490990>], 'is_active': <Future finished result=True>}\n"
     ]
    }
   ],
   "source": [
    "response = messaging_service.get_contacts()\n",
    "for contact in response:\n",
    "    print(f\"{contact.alias} : {contact.connection_id}\")\n",
    "    print(contact.is_active.done())\n",
    "    print(contact.__dict__)"
   ]
  },
  {
   "cell_type": "markdown",
   "id": "81537534",
   "metadata": {},
   "source": [
    "## Terminate Controller\n",
    "\n",
    "Whenever you have finished with this notebook, be sure to terminate the controller. This is especially important if your business logic runs across multiple notebooks."
   ]
  },
  {
   "cell_type": "code",
   "execution_count": null,
   "id": "4b24e143",
   "metadata": {},
   "outputs": [],
   "source": [
    "await agent_controller.terminate()"
   ]
  },
  {
   "cell_type": "code",
   "execution_count": null,
   "id": "9d612d0c",
   "metadata": {},
   "outputs": [],
   "source": []
  }
 ],
 "metadata": {
  "kernelspec": {
   "display_name": "Python 3",
   "language": "python",
   "name": "python3"
  },
  "language_info": {
   "codemirror_mode": {
    "name": "ipython",
    "version": 3
   },
   "file_extension": ".py",
   "mimetype": "text/x-python",
   "name": "python",
   "nbconvert_exporter": "python",
   "pygments_lexer": "ipython3",
   "version": "3.7.6"
  }
 },
 "nbformat": 4,
 "nbformat_minor": 5
}
