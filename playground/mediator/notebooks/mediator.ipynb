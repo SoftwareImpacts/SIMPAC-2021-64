{
 "cells": [
  {
   "cell_type": "markdown",
   "id": "2414b65c",
   "metadata": {},
   "source": [
    "# Mediator Recipe"
   ]
  },
  {
   "cell_type": "markdown",
   "id": "e2cde921",
   "metadata": {},
   "source": [
    "### imports"
   ]
  },
  {
   "cell_type": "code",
   "execution_count": null,
   "id": "542f6690",
   "metadata": {},
   "outputs": [],
   "source": [
    "from aries_cloudcontroller import AriesAgentController\n",
    "import os\n",
    "import asyncio\n",
    "from termcolor import colored"
   ]
  },
  {
   "cell_type": "markdown",
   "id": "7dd1fc45",
   "metadata": {},
   "source": [
    "## Initialise Agent"
   ]
  },
  {
   "cell_type": "code",
   "execution_count": null,
   "id": "afa21017",
   "metadata": {},
   "outputs": [],
   "source": [
    "api_key = os.getenv(\"ACAPY_ADMIN_API_KEY\")\n",
    "admin_url = os.getenv(\"ADMIN_URL\")\n",
    "\n",
    "print(f\"Initialising a controller with admin api at {admin_url} and an api key of {api_key}\")\n",
    "agent_controller = AriesAgentController(admin_url,api_key)"
   ]
  },
  {
   "cell_type": "code",
   "execution_count": null,
   "id": "f79ca890",
   "metadata": {},
   "outputs": [],
   "source": [
    "webhook_port = int(os.getenv(\"WEBHOOK_PORT\"))\n",
    "webhook_host = \"0.0.0.0\"\n",
    "\n",
    "await agent_controller.init_webhook_server(webhook_host, webhook_port)\n",
    "\n",
    "print(f\"Listening for webhooks from agent at http://{webhook_host}:{webhook_port}\")"
   ]
  },
  {
   "cell_type": "markdown",
   "id": "6e15241d",
   "metadata": {},
   "source": [
    "## Register Listeners"
   ]
  },
  {
   "cell_type": "code",
   "execution_count": null,
   "id": "01f01fe5",
   "metadata": {},
   "outputs": [],
   "source": [
    "\n",
    "def connection_handler(payload):\n",
    "    print(\"Connection Handler Called\")\n",
    "    connection_id = payload[\"connection_id\"]\n",
    "    state = payload[\"state\"]\n",
    "    print(f\"Connection {connection_id} in State {state}\")\n",
    "    if state == \"invitation\":\n",
    "        # Your business logic\n",
    "        print(\"invitation\")\n",
    "    elif state == \"checkRecords\":\n",
    "        # Your business logic\n",
    "        print(\"check\")\n",
    "    elif state == \"response\":\n",
    "        # Your business logic\n",
    "        print(\"response\")\n",
    "    elif state == \"active\":\n",
    "        # Your business logic\n",
    "        print(colored(\"Connection ID: {0} is now active.\".format(connection_id), \"green\", attrs=[\"bold\"]))\n",
    "    \n",
    "connection_listener = {\n",
    "    \"handler\": connection_handler,\n",
    "    \"topic\": \"connections\"\n",
    "}\n",
    "\n",
    "agent_controller.register_listeners([connection_listener], defaults=True)\n",
    "\n",
    "\n"
   ]
  },
  {
   "cell_type": "markdown",
   "id": "043e6a5c",
   "metadata": {},
   "source": [
    "### Create Multi-Use Mediation Invitation\n",
    "\n",
    "Note you could create single use invitations too, but likely as a mediator you would want the invitation to be multi-use"
   ]
  },
  {
   "cell_type": "code",
   "execution_count": null,
   "id": "23b535d5",
   "metadata": {},
   "outputs": [],
   "source": [
    "# Create Invitation\n",
    "invite = await agent_controller.connections.create_invitation(multi_use=\"true\")\n",
    "connection_id = invite[\"connection_id\"]\n",
    "invite_message = invite['invitation']\n",
    "print(\"Connection ID\", connection_id)\n",
    "print(\"Invitation\")\n",
    "print(invite_message)"
   ]
  },
  {
   "cell_type": "markdown",
   "id": "177e54aa",
   "metadata": {},
   "source": [
    "## Check Mediation Requests"
   ]
  },
  {
   "cell_type": "code",
   "execution_count": null,
   "id": "bc52a5bf",
   "metadata": {},
   "outputs": [],
   "source": [
    "### To have a look at the mediation records and we should see our mediation in there\n",
    "records_response = await agent_controller.mediation.get_mediation_records()\n",
    "print(records_response)\n"
   ]
  },
  {
   "cell_type": "markdown",
   "id": "99073f1f",
   "metadata": {},
   "source": [
    "## Grant Mediation Requests\n",
    "\n",
    "If not handled automatically"
   ]
  },
  {
   "cell_type": "code",
   "execution_count": null,
   "id": "ce3e3d16",
   "metadata": {},
   "outputs": [],
   "source": [
    "grant = await agent_controller.mediation.grant_mediation_request_by_id(records_response[0][\"mediation_id\"])\n",
    "print(grant)"
   ]
  },
  {
   "cell_type": "code",
   "execution_count": null,
   "id": "4ca92e42",
   "metadata": {},
   "outputs": [],
   "source": []
  }
 ],
 "metadata": {
  "kernelspec": {
   "display_name": "Python 3",
   "language": "python",
   "name": "python3"
  },
  "language_info": {
   "codemirror_mode": {
    "name": "ipython",
    "version": 3
   },
   "file_extension": ".py",
   "mimetype": "text/x-python",
   "name": "python",
   "nbconvert_exporter": "python",
   "pygments_lexer": "ipython3",
   "version": "3.7.6"
  }
 },
 "nbformat": 4,
 "nbformat_minor": 5
}
