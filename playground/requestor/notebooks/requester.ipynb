{
 "cells": [
  {
   "cell_type": "code",
   "execution_count": null,
   "id": "238104fd",
   "metadata": {},
   "outputs": [],
   "source": [
    "from aries_cloudcontroller import AriesAgentController\n",
    "import os\n",
    "from termcolor import colored\n",
    "import asyncio"
   ]
  },
  {
   "cell_type": "code",
   "execution_count": null,
   "id": "e255606b",
   "metadata": {},
   "outputs": [],
   "source": [
    "api_key = os.getenv(\"ACAPY_ADMIN_API_KEY\")\n",
    "admin_url = os.getenv(\"ADMIN_URL\")\n",
    "\n",
    "print(f\"Initialising a controller with admin api at {admin_url} and an api key of {api_key}\")\n",
    "agent_controller = AriesAgentController(admin_url,api_key)"
   ]
  },
  {
   "cell_type": "code",
   "execution_count": null,
   "id": "0ecc6d2b",
   "metadata": {},
   "outputs": [],
   "source": [
    "webhook_port = int(os.getenv(\"WEBHOOK_PORT\"))\n",
    "webhook_host = \"0.0.0.0\"\n",
    "\n",
    "await agent_controller.init_webhook_server(webhook_host, webhook_port)\n",
    "\n",
    "print(f\"Listening for webhooks from agent at http://{webhook_host}:{webhook_port}\")"
   ]
  },
  {
   "cell_type": "code",
   "execution_count": null,
   "id": "71338124",
   "metadata": {},
   "outputs": [],
   "source": [
    "listeners = []\n",
    "\n",
    "# Receive connection messages\n",
    "def connections_handler(payload):\n",
    "    state = payload['state']\n",
    "    connection_id = payload[\"connection_id\"]\n",
    "    \n",
    "    print(\"----------------------------------------------------------\")\n",
    "    print(\"Connection Webhook Event Received\")\n",
    "    print(\"Connection ID : \", connection_id)\n",
    "    print(\"State : \", state)\n",
    "    print(\"----------------------------------------------------------\")\n",
    "\n",
    "    if state == \"invitation\":\n",
    "        # Your business logic\n",
    "        print(\"invitation\")\n",
    "    elif state == \"request\":\n",
    "        # Your business logic\n",
    "        print(\"request\")\n",
    "    elif state == \"response\":\n",
    "        # Your business logic\n",
    "        print(\"response\")\n",
    "    elif state == \"active\":\n",
    "        # Your business logic\n",
    "        print(colored(\"Connection ID: {0} is now active.\".format(connection_id), \"green\", attrs=[\"bold\"]))\n",
    "\n",
    "\n",
    "\n",
    "connection_listener = {\n",
    "    \"handler\": connections_handler,\n",
    "    \"topic\": \"connections\"\n",
    "}\n",
    "\n",
    "listeners.append(connection_listener)\n",
    "\n",
    "agent_controller.register_listeners(listeners,defaults=True)"
   ]
  },
  {
   "cell_type": "markdown",
   "id": "0d8a97dd",
   "metadata": {},
   "source": [
    "## Create Invite Before Requesting Mediation\n",
    "\n"
   ]
  },
  {
   "cell_type": "code",
   "execution_count": null,
   "id": "63e8fd5b",
   "metadata": {},
   "outputs": [],
   "source": [
    "unmediated_invitation = await agent_controller.connections.create_invitation()"
   ]
  },
  {
   "cell_type": "markdown",
   "id": "14bb07c9",
   "metadata": {},
   "source": [
    "## Make Connection with Mediator"
   ]
  },
  {
   "cell_type": "code",
   "execution_count": null,
   "id": "2e93478b",
   "metadata": {},
   "outputs": [],
   "source": [
    "mediator_invitation ={'@type': 'did:sov:BzCbsNYhMrjHiqZDTUASHg;spec/connections/1.0/invitation', '@id': '225a7d6c-4e78-44e4-833a-6913ccfddd23', 'serviceEndpoint': 'http://f3a685129c04.ngrok.io', 'label': 'MediatorAgent', 'recipientKeys': ['GG2wAwZxEyRkh5UtayVYfJRq1vw5MjXZyj1pjcb6knzz']}"
   ]
  },
  {
   "cell_type": "code",
   "execution_count": null,
   "id": "c2b815b2",
   "metadata": {},
   "outputs": [],
   "source": [
    "response = await agent_controller.connections.receive_invitation(mediator_invitation)"
   ]
  },
  {
   "cell_type": "code",
   "execution_count": null,
   "id": "fe75fd0b",
   "metadata": {},
   "outputs": [],
   "source": [
    "connection_id = response[\"connection_id\"]\n",
    "print(connection_id)"
   ]
  },
  {
   "cell_type": "markdown",
   "id": "ed9ec9f3",
   "metadata": {},
   "source": [
    "### Request mediation"
   ]
  },
  {
   "cell_type": "code",
   "execution_count": null,
   "id": "aff934b0",
   "metadata": {},
   "outputs": [],
   "source": [
    "### check state of connection\n",
    "connection = await agent_controller.connections.get_connection(connection_id)\n",
    "\n",
    "# Let's check for the state\n",
    "if connection['state'] != 'active':\n",
    "    print(\"No active connection. \\n Please go back and ensure you have established an active connection between the mediator agent and Alice's subwallet agent\")    \n",
    "else:\n",
    "    ## request mediation\n",
    "    mediation_req = await agent_controller.mediation.request_mediation(connection_id)\n",
    "    print(mediation_req)\n",
    "    \n"
   ]
  },
  {
   "cell_type": "markdown",
   "id": "877b3ac1",
   "metadata": {},
   "source": [
    "## Check Mediation Records\n",
    "\n",
    "State should be \"granted\" if mediator agent has accepted the mediation request"
   ]
  },
  {
   "cell_type": "code",
   "execution_count": null,
   "id": "8a61a49d",
   "metadata": {},
   "outputs": [],
   "source": [
    "### To have a look at the mediation records and we should see our mediation in there\n",
    "response = await agent_controller.mediation.get_mediation_records()\n",
    "print(response)\n",
    "print(f\"State : {response[0]['state']}\")"
   ]
  },
  {
   "cell_type": "markdown",
   "id": "51bfd696",
   "metadata": {},
   "source": [
    "## Set Default Mediator\n",
    "\n",
    "Your agent will automatically use this mediator when creating connections"
   ]
  },
  {
   "cell_type": "code",
   "execution_count": null,
   "id": "7f9924c1",
   "metadata": {},
   "outputs": [],
   "source": [
    "default_mediation_res = await agent_controller.mediation.set_default_mediator(response[0]['mediation_id'])\n",
    "print(default_mediation_res)"
   ]
  },
  {
   "cell_type": "markdown",
   "id": "5042f253",
   "metadata": {},
   "source": [
    "## Create Mediated Connection Invitation"
   ]
  },
  {
   "cell_type": "code",
   "execution_count": null,
   "id": "0325f19f",
   "metadata": {},
   "outputs": [],
   "source": [
    "mediated_conn_invitation = await agent_controller.connections.create_invitation()\n"
   ]
  },
  {
   "cell_type": "markdown",
   "id": "b2f0cb81",
   "metadata": {},
   "source": [
    "## See the Difference Between Invitations\n",
    "\n",
    "The mediated connection invitation uses the routing keys and service endpoint provided by the mediator."
   ]
  },
  {
   "cell_type": "code",
   "execution_count": null,
   "id": "a8c308f9",
   "metadata": {},
   "outputs": [],
   "source": [
    "mediated_routing_keys = mediated_conn_invitation[\"invitation\"][\"routingKeys\"]\n",
    "mediated_endpoint = mediated_conn_invitation[\"invitation\"][\"serviceEndpoint\"]\n",
    "unmediated_routing_key = unmediated_invitation[\"invitation\"][\"routingKeys\"]\n",
    "unmediated_endpoint = unmediated_invitation[\"invitation\"][\"serviceEndpoint\"]\n",
    "\n",
    "print(\"Before Mediation\")\n",
    "print(f\"Endpoint : {unmediated_endpoint}, Routing Keys : {unmediated_routing_key}\")\n",
    "print(\"After Mediation\")\n",
    "print(f\"Endpoint : {mediated_endpoint}, Routing Keys : {mediated_routing_keys}\")"
   ]
  },
  {
   "cell_type": "code",
   "execution_count": null,
   "id": "003aeddd",
   "metadata": {},
   "outputs": [],
   "source": []
  }
 ],
 "metadata": {
  "kernelspec": {
   "display_name": "Python 3",
   "language": "python",
   "name": "python3"
  },
  "language_info": {
   "codemirror_mode": {
    "name": "ipython",
    "version": 3
   },
   "file_extension": ".py",
   "mimetype": "text/x-python",
   "name": "python",
   "nbconvert_exporter": "python",
   "pygments_lexer": "ipython3",
   "version": "3.7.6"
  }
 },
 "nbformat": 4,
 "nbformat_minor": 5
}
