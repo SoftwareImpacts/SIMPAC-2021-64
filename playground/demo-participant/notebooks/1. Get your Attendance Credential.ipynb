{
 "cells": [
  {
   "cell_type": "markdown",
   "id": "ba64c1eb",
   "metadata": {},
   "source": [
    "# Get Your Attendance Credential\n"
   ]
  },
  {
   "cell_type": "markdown",
   "id": "4467e295",
   "metadata": {},
   "source": [
    "### Imports"
   ]
  },
  {
   "cell_type": "code",
   "execution_count": 1,
   "id": "70fba486",
   "metadata": {},
   "outputs": [],
   "source": [
    "from aries_cloudcontroller import AriesAgentController\n",
    "import os\n",
    "from termcolor import colored"
   ]
  },
  {
   "cell_type": "markdown",
   "id": "09f79ef1",
   "metadata": {},
   "source": [
    "### Initialise the Agent Controller"
   ]
  },
  {
   "cell_type": "code",
   "execution_count": 2,
   "id": "5263460b",
   "metadata": {},
   "outputs": [
    {
     "name": "stdout",
     "output_type": "stream",
     "text": [
      "Initialising a controller with admin api at http://demo-participant-agent:3021 and an api key of demo-participantsSecretApiKey\n"
     ]
    }
   ],
   "source": [
    "api_key = os.getenv(\"ACAPY_ADMIN_API_KEY\")\n",
    "admin_url = os.getenv(\"ADMIN_URL\")\n",
    "\n",
    "print(f\"Initialising a controller with admin api at {admin_url} and an api key of {api_key}\")\n",
    "agent_controller = AriesAgentController(admin_url,api_key)"
   ]
  },
  {
   "cell_type": "markdown",
   "id": "949775a2",
   "metadata": {},
   "source": [
    "### Start a Webhook Server"
   ]
  },
  {
   "cell_type": "code",
   "execution_count": 3,
   "id": "91b5b15a",
   "metadata": {},
   "outputs": [
    {
     "name": "stdout",
     "output_type": "stream",
     "text": [
      "Listening for webhooks from agent at http://0.0.0.0:3010\n"
     ]
    }
   ],
   "source": [
    "webhook_port = int(os.getenv(\"WEBHOOK_PORT\"))\n",
    "webhook_host = \"0.0.0.0\"\n",
    "\n",
    "await agent_controller.init_webhook_server(webhook_host, webhook_port)\n",
    "\n",
    "print(f\"Listening for webhooks from agent at http://{webhook_host}:{webhook_port}\")"
   ]
  },
  {
   "cell_type": "markdown",
   "id": "7505494b",
   "metadata": {},
   "source": [
    "## Register Agent Event Listeners\n",
    "\n",
    "You can see some examples within the webhook_listeners recipe. Copy any relevant cells across and customise as needed."
   ]
  },
  {
   "cell_type": "code",
   "execution_count": 4,
   "id": "f90b69e1",
   "metadata": {},
   "outputs": [],
   "source": [
    "listeners = []"
   ]
  },
  {
   "cell_type": "code",
   "execution_count": 5,
   "id": "0f3ba793",
   "metadata": {},
   "outputs": [],
   "source": [
    "def problem_report_handler(payload):\n",
    "    print(\"Problem report received\")\n",
    "    print(payload)\n",
    "\n",
    "problem_report_listener = {\n",
    "    \"topic\": \"problem_report\",\n",
    "    \"handler\": problem_report_handler\n",
    "}\n",
    "\n",
    "listeners.append(problem_report_listener)"
   ]
  },
  {
   "cell_type": "code",
   "execution_count": 6,
   "id": "752c6a2d",
   "metadata": {},
   "outputs": [],
   "source": [
    "## YOUR LISTENERS HERE\n",
    "def holder_handler(payload):\n",
    "    connection_id = payload['connection_id']\n",
    "    exchange_id = payload['credential_exchange_id']\n",
    "    state = payload['state']\n",
    "    role = payload['role']\n",
    "    print(\"\\n---------------------------------------------------\\n\")\n",
    "    print(\"Handle Issue Credential Webhook\")\n",
    "    print(f\"Connection ID : {connection_id}\")\n",
    "    print(f\"Credential exchange ID : {exchange_id}\")\n",
    "    print(\"Agent Protocol Role : \", role)\n",
    "    print(\"Protocol State : \", state )\n",
    "    print(\"\\n---------------------------------------------------\\n\")\n",
    "    print(\"Handle Credential Webhook Payload\")\n",
    "    \n",
    "    if state == \"offer_received\":\n",
    "        print(\"Credential Offer Recieved\")\n",
    "        proposal = payload[\"credential_proposal_dict\"]\n",
    "        print(\"The proposal dictionary is likely how you would understand and display a credential offer in your application\")\n",
    "        print(\"\\n\", proposal)\n",
    "        print(\"\\n This includes the set of attributes you are being offered\")\n",
    "        attributes = proposal['credential_proposal']['attributes']\n",
    "        print(attributes)\n",
    "        ## YOUR LOGIC HERE\n",
    "    elif state == \"request_sent\":\n",
    "        print(\"\\nA credential request object contains the commitment to the agents master secret using the nonce from the offer\")\n",
    "        ## YOUR LOGIC HERE\n",
    "    elif state == \"credential_received\":\n",
    "        print(\"Received Credential\")\n",
    "        ## YOUR LOGIC HERE\n",
    "    elif state == \"credential_acked\":\n",
    "        ## YOUR LOGIC HERE\n",
    "        credential = payload[\"credential\"]\n",
    "        print(\"Credential Stored\\n\")\n",
    "        print(credential)\n",
    "        \n",
    "        print(\"\\nThe referent acts as the identifier for retrieving the raw credential from the wallet\")\n",
    "        # Note: You would probably save this in your application database\n",
    "        credential_referent = credential[\"referent\"]\n",
    "        print(\"Referent\", credential_referent)\n",
    "    \n",
    "\n",
    "\n",
    "    \n",
    "holder_listener = {\n",
    "    \"topic\": \"issue_credential\",\n",
    "    \"handler\": holder_handler\n",
    "}\n",
    "\n",
    "listeners.append(holder_listener)"
   ]
  },
  {
   "cell_type": "code",
   "execution_count": 7,
   "id": "ae5868de",
   "metadata": {},
   "outputs": [],
   "source": [
    "# Receive connection messages\n",
    "def connections_handler(payload):\n",
    "    state = payload['state']\n",
    "    connection_id = payload[\"connection_id\"]\n",
    "    their_role = payload[\"their_role\"]\n",
    "    routing_state = payload[\"routing_state\"]\n",
    "    \n",
    "    print(\"----------------------------------------------------------\")\n",
    "    print(\"Connection Webhook Event Received\")\n",
    "    print(\"Connection ID : \", connection_id)\n",
    "    print(\"State : \", state)\n",
    "    print(\"Routing State : \", routing_state)\n",
    "    print(\"Their Role : \", their_role)\n",
    "    print(\"----------------------------------------------------------\")\n",
    "\n",
    "\n",
    "    \n",
    "    if state == \"invitation\":\n",
    "        # Your business logic\n",
    "        print(\"invitation\")\n",
    "    elif state == \"request\":\n",
    "        # Your business logic\n",
    "        print(\"request\")\n",
    "\n",
    "    elif state == \"response\":\n",
    "        # Your business logic\n",
    "        print(\"response\")\n",
    "    elif state == \"active\":\n",
    "        # Your business logic\n",
    "        print(colored(\"Connection ID: {0} is now active.\".format(connection_id), \"green\", attrs=[\"bold\"]))\n",
    "        \n",
    "\n",
    "connection_listener = {\n",
    "    \"handler\": connections_handler,\n",
    "    \"topic\": \"connections\"\n",
    "}\n",
    "\n",
    "listeners.append(connection_listener)"
   ]
  },
  {
   "cell_type": "code",
   "execution_count": 8,
   "id": "da5ec4da",
   "metadata": {},
   "outputs": [],
   "source": [
    "agent_controller.register_listeners(listeners)"
   ]
  },
  {
   "cell_type": "markdown",
   "id": "299d101f",
   "metadata": {},
   "source": [
    "## Establish a Connection with Issuer\n",
    "\n",
    "This is a multi-use invitation from hosted agent running in the cloud.\n",
    "\n",
    "It's a bit hacky but code for it can be found here - https://github.com/wip-abramson/aries-issuer-service"
   ]
  },
  {
   "cell_type": "code",
   "execution_count": 9,
   "id": "bf954cf1",
   "metadata": {},
   "outputs": [],
   "source": [
    "\n",
    "invitation =  {'@type': 'did:sov:BzCbsNYhMrjHiqZDTUASHg;spec/connections/1.0/invitation', '@id': 'e123d5a6-107d-4a9f-9739-c8833a96cb7a', 'label': 'Hyperledger Global Forum', 'serviceEndpoint': 'http://176.58.124.167:1020', 'recipientKeys': ['13JDgEYdau4vqMhrb1unjJkKX2MbictDazda6i6LxSxK']}\n"
   ]
  },
  {
   "cell_type": "code",
   "execution_count": 10,
   "id": "4b158818",
   "metadata": {},
   "outputs": [
    {
     "name": "stdout",
     "output_type": "stream",
     "text": [
      "----------------------------------------------------------\n",
      "Connection Webhook Event Received\n",
      "Connection ID :  babc85dd-1f4e-4db7-8a5a-43d96a123c8f\n",
      "State :  invitation\n",
      "Routing State :  none\n",
      "Their Role :  inviter\n",
      "----------------------------------------------------------\n",
      "invitation\n",
      "----------------------------------------------------------\n",
      "Connection Webhook Event Received\n",
      "Connection ID :  babc85dd-1f4e-4db7-8a5a-43d96a123c8f\n",
      "State :  request\n",
      "Routing State :  none\n",
      "Their Role :  inviter\n",
      "----------------------------------------------------------\n",
      "request\n",
      "----------------------------------------------------------\n",
      "Connection Webhook Event Received\n",
      "Connection ID :  babc85dd-1f4e-4db7-8a5a-43d96a123c8f\n",
      "State :  response\n",
      "Routing State :  none\n",
      "Their Role :  inviter\n",
      "----------------------------------------------------------\n",
      "response\n",
      "----------------------------------------------------------\n",
      "Connection Webhook Event Received\n",
      "Connection ID :  babc85dd-1f4e-4db7-8a5a-43d96a123c8f\n",
      "State :  active\n",
      "Routing State :  none\n",
      "Their Role :  inviter\n",
      "----------------------------------------------------------\n",
      "\u001b[1m\u001b[32mConnection ID: babc85dd-1f4e-4db7-8a5a-43d96a123c8f is now active.\u001b[0m\n"
     ]
    }
   ],
   "source": [
    "auto_accept=False\n",
    "alias=\"Hyperledger Global Forum\"\n",
    "\n",
    "invite_response = await agent_controller.connections.receive_invitation(invitation, alias, auto_accept)\n",
    "connection_id = invite_response[\"connection_id\"]"
   ]
  },
  {
   "cell_type": "markdown",
   "id": "1baa4595",
   "metadata": {},
   "source": [
    "## Propose Set of Attributes for Demo Participation Credential\n",
    "\n",
    "\n",
    "Scheme can be viewed on [IndyScan here](https://indyscan.io/tx/SOVRIN_STAGINGNET/domain/216849)\n",
    "\n",
    "attributes = [\"Event Name\", \"Participant\", \"Description\", \"Date\"]\n"
   ]
  },
  {
   "cell_type": "code",
   "execution_count": 11,
   "id": "65831834",
   "metadata": {},
   "outputs": [
    {
     "name": "stdin",
     "output_type": "stream",
     "text": [
      "Enter the name you wish to be identified as : Wip\n",
      "Add any description you wish :  Some des\n"
     ]
    },
    {
     "name": "stdout",
     "output_type": "stream",
     "text": [
      "Proposing Aries ACA ACC Jupyter Playground Demo Participation be Issued with following attributes: \n",
      " \n",
      " [{'name': 'Event Name', 'value': 'Hyperledger Global Forum 2021'}, {'name': 'Participant', 'value': 'Wip'}, {'name': 'Description', 'value': 'Some des'}, {'name': 'Date', 'value': '2021-06-02'}]\n"
     ]
    }
   ],
   "source": [
    "from datetime import date\n",
    "\n",
    "\n",
    "schema_id='W4t2Pa4XR1qBDvwhVcn4CY:2:Aries ACA ACC Jupyter Playground Demo Participation:0.0.1'\n",
    "cred_def_id='QXrB6dzq3igg6jjQgcLChn:3:CL:216849:default'\n",
    "\n",
    "event_name = \"Hyperledger Global Forum 2021\"\n",
    "participant=input(\"Enter the name you wish to be identified as :\")\n",
    "description=input(\"Add any description you wish : \")\n",
    "date= date.today().isoformat()\n",
    "\n",
    "\n",
    "attributes = [\n",
    "    {\"name\": \"Event Name\", \"value\": event_name},\n",
    "    {\"name\": \"Participant\", \"value\": participant},\n",
    "    {\"name\": \"Description\", \"value\": description},\n",
    "    {\"name\": \"Date\", \"value\": date}\n",
    "]\n",
    "\n",
    "print(f\"Proposing Aries ACA ACC Jupyter Playground Demo Participation be Issued with following attributes: \\n \\n {attributes}\")"
   ]
  },
  {
   "cell_type": "code",
   "execution_count": 12,
   "id": "01650565",
   "metadata": {},
   "outputs": [
    {
     "name": "stdout",
     "output_type": "stream",
     "text": [
      "\n",
      "---------------------------------------------------\n",
      "\n",
      "Handle Issue Credential Webhook\n",
      "Connection ID : babc85dd-1f4e-4db7-8a5a-43d96a123c8f\n",
      "Credential exchange ID : 7936bf89-1b32-46a4-8bfa-5cb06cdbd327\n",
      "Agent Protocol Role :  holder\n",
      "Protocol State :  proposal_sent\n",
      "\n",
      "---------------------------------------------------\n",
      "\n",
      "Handle Credential Webhook Payload\n",
      "\n",
      "---------------------------------------------------\n",
      "\n",
      "Handle Issue Credential Webhook\n",
      "Connection ID : babc85dd-1f4e-4db7-8a5a-43d96a123c8f\n",
      "Credential exchange ID : 64e5334c-0ffc-4f66-aaa0-52be63ea2ea1\n",
      "Agent Protocol Role :  holder\n",
      "Protocol State :  offer_received\n",
      "\n",
      "---------------------------------------------------\n",
      "\n",
      "Handle Credential Webhook Payload\n",
      "Credential Offer Recieved\n",
      "The proposal dictionary is likely how you would understand and display a credential offer in your application\n",
      "\n",
      " {'@type': 'did:sov:BzCbsNYhMrjHiqZDTUASHg;spec/issue-credential/1.0/propose-credential', '@id': 'f02f58f8-af14-4692-9de1-e2f688a49753', 'credential_proposal': {'@type': 'did:sov:BzCbsNYhMrjHiqZDTUASHg;spec/issue-credential/1.0/credential-preview', 'attributes': [{'name': 'Event Name', 'value': 'Hyperledger Global Forum 2021'}, {'name': 'Participant', 'value': 'Wip'}, {'name': 'Description', 'value': 'Some des\\n Thanks for attending!'}, {'name': 'Date', 'value': '2021-06-02'}]}, 'cred_def_id': 'QXrB6dzq3igg6jjQgcLChn:3:CL:216849:default', 'comment': 'create automated credential exchange', 'schema_id': 'W4t2Pa4XR1qBDvwhVcn4CY:2:Aries ACA ACC Jupyter Playground Demo Participation:0.0.1'}\n",
      "\n",
      " This includes the set of attributes you are being offered\n",
      "[{'name': 'Event Name', 'value': 'Hyperledger Global Forum 2021'}, {'name': 'Participant', 'value': 'Wip'}, {'name': 'Description', 'value': 'Some des\\n Thanks for attending!'}, {'name': 'Date', 'value': '2021-06-02'}]\n"
     ]
    }
   ],
   "source": [
    "comment=\"Please can you issue me this\"\n",
    "auto_remove=\"true\"\n",
    "trace=\"false\"\n",
    "\n",
    "proposal = await agent_controller.issuer.send_proposal(connection_id, schema_id, cred_def_id, attributes, comment, auto_remove, trace)"
   ]
  },
  {
   "cell_type": "markdown",
   "id": "04da1cdc",
   "metadata": {},
   "source": [
    "## Request Credential From Offer\n",
    "\n",
    "Note: Your agent will automatically respond if ACAPY_AUTO_RESPOND_CREDENTIAL_OFFER=true flag is set in .env file of agent. Default is false.\n",
    "\n",
    "To respond to an offer you must identify the offer using the credential_exchange_id generated for it. This is available from within the issue-credential holder handler. You could add custom logic in this loop `elif state == \"request\":` to handle this.\n",
    "\n",
    "However, we will fetch the credential exchange records and **assume** this agent only has one record. Customise accordingly.\n"
   ]
  },
  {
   "cell_type": "code",
   "execution_count": 13,
   "id": "8dcb9715",
   "metadata": {},
   "outputs": [],
   "source": [
    "# Optional args\n",
    "thread_id=None\n",
    "state = \"offer_received\"\n",
    "role = \"prover\"\n",
    "\n",
    "\n",
    "records_response = await agent_controller.issuer.get_records(connection_id=connection_id,state=state)\n",
    "record = records_response[\"results\"][0]\n",
    "record_id = record[\"credential_exchange_id\"]"
   ]
  },
  {
   "cell_type": "code",
   "execution_count": 14,
   "id": "08bc42f6",
   "metadata": {},
   "outputs": [
    {
     "name": "stdout",
     "output_type": "stream",
     "text": [
      "\n",
      "---------------------------------------------------\n",
      "\n",
      "Handle Issue Credential Webhook\n",
      "Connection ID : babc85dd-1f4e-4db7-8a5a-43d96a123c8f\n",
      "Credential exchange ID : 64e5334c-0ffc-4f66-aaa0-52be63ea2ea1\n",
      "Agent Protocol Role :  holder\n",
      "Protocol State :  request_sent\n",
      "\n",
      "---------------------------------------------------\n",
      "\n",
      "Handle Credential Webhook Payload\n",
      "\n",
      "A credential request object contains the commitment to the agents master secret using the nonce from the offer\n"
     ]
    }
   ],
   "source": [
    "response = await agent_controller.issuer.send_request_for_record(record_id)"
   ]
  },
  {
   "cell_type": "markdown",
   "id": "5d3c261c",
   "metadata": {},
   "source": [
    "## Store Received Credential\n",
    "\n",
    "This will be done automatically if the ACAPY_AUTO_STORE_CREDENTIAL=true flag is set in the .env file for this agent. Default is false.\n",
    "\n",
    "Again you could handle this in your holder handler function in the `elif state == \"credential_received\":` loop."
   ]
  },
  {
   "cell_type": "code",
   "execution_count": 16,
   "id": "b2e7733b",
   "metadata": {},
   "outputs": [
    {
     "name": "stdout",
     "output_type": "stream",
     "text": [
      "\n",
      "---------------------------------------------------\n",
      "\n",
      "Handle Issue Credential Webhook\n",
      "Connection ID : babc85dd-1f4e-4db7-8a5a-43d96a123c8f\n",
      "Credential exchange ID : 64e5334c-0ffc-4f66-aaa0-52be63ea2ea1\n",
      "Agent Protocol Role :  holder\n",
      "Protocol State :  credential_acked\n",
      "\n",
      "---------------------------------------------------\n",
      "\n",
      "Handle Credential Webhook Payload\n",
      "Credential Stored\n",
      "\n",
      "{'referent': 'Demo Participant2', 'attrs': {'Date': '2021-06-02', 'Description': 'Some des\\n Thanks for attending!', 'Participant': 'Wip', 'Event Name': 'Hyperledger Global Forum 2021'}, 'schema_id': 'W4t2Pa4XR1qBDvwhVcn4CY:2:Aries ACA ACC Jupyter Playground Demo Participation:0.0.1', 'cred_def_id': 'QXrB6dzq3igg6jjQgcLChn:3:CL:216849:default', 'rev_reg_id': None, 'cred_rev_id': None}\n",
      "\n",
      "The referent acts as the identifier for retrieving the raw credential from the wallet\n",
      "Referent Demo Participant2\n"
     ]
    }
   ],
   "source": [
    "# Optionally specify an identifier to uniquely identify this credential within your agents wallet.\n",
    "# You would likely want to save this somewhere.\n",
    "# If not set a random one will be generated for you\n",
    "credential_id = \"Demo Participant2\"\n",
    "\n",
    "store_cred_response = await agent_controller.issuer.store_credential(record_id, credential_id)"
   ]
  },
  {
   "cell_type": "markdown",
   "id": "2efad1c8",
   "metadata": {},
   "source": [
    "## Terminate Controller\n",
    "\n",
    "Whenever you have finished with this notebook, be sure to terminate the controller. This is especially important if your business logic runs across multiple notebooks."
   ]
  },
  {
   "cell_type": "code",
   "execution_count": 17,
   "id": "67dab17d",
   "metadata": {},
   "outputs": [],
   "source": [
    "await agent_controller.terminate()"
   ]
  }
 ],
 "metadata": {
  "kernelspec": {
   "display_name": "Python 3",
   "language": "python",
   "name": "python3"
  },
  "language_info": {
   "codemirror_mode": {
    "name": "ipython",
    "version": 3
   },
   "file_extension": ".py",
   "mimetype": "text/x-python",
   "name": "python",
   "nbconvert_exporter": "python",
   "pygments_lexer": "ipython3",
   "version": "3.7.6"
  }
 },
 "nbformat": 4,
 "nbformat_minor": 5
}
