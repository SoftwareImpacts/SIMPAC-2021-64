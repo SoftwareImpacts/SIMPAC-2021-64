{
 "cells": [
  {
   "cell_type": "markdown",
   "id": "560cbf61",
   "metadata": {},
   "source": [
    "# Messaging\n"
   ]
  },
  {
   "cell_type": "markdown",
   "id": "83dc5b48",
   "metadata": {},
   "source": [
    "### Imports"
   ]
  },
  {
   "cell_type": "code",
   "execution_count": 1,
   "id": "0bfd3d35",
   "metadata": {},
   "outputs": [],
   "source": [
    "from aries_cloudcontroller import AriesAgentController\n",
    "import os\n",
    "from termcolor import colored\n",
    "import asyncio\n",
    "import nest_asyncio\n",
    "nest_asyncio.apply()"
   ]
  },
  {
   "cell_type": "markdown",
   "id": "aa893777",
   "metadata": {},
   "source": [
    "### Initialise the Agent Controller"
   ]
  },
  {
   "cell_type": "code",
   "execution_count": 2,
   "id": "c86692b7",
   "metadata": {},
   "outputs": [
    {
     "name": "stdout",
     "output_type": "stream",
     "text": [
      "Initialising a controller with admin api at http://demo-participant-agent:3021 and an api key of demo-participantsSecretApiKey\n"
     ]
    }
   ],
   "source": [
    "api_key = os.getenv(\"ACAPY_ADMIN_API_KEY\")\n",
    "admin_url = os.getenv(\"ADMIN_URL\")\n",
    "\n",
    "print(f\"Initialising a controller with admin api at {admin_url} and an api key of {api_key}\")\n",
    "agent_controller = AriesAgentController(admin_url,api_key)"
   ]
  },
  {
   "cell_type": "markdown",
   "id": "329d98d7",
   "metadata": {},
   "source": [
    "### Start a Webhook Server"
   ]
  },
  {
   "cell_type": "code",
   "execution_count": 3,
   "id": "2191227f",
   "metadata": {},
   "outputs": [
    {
     "name": "stdout",
     "output_type": "stream",
     "text": [
      "Listening for webhooks from agent at http://0.0.0.0:3010\n"
     ]
    }
   ],
   "source": [
    "webhook_port = int(os.getenv(\"WEBHOOK_PORT\"))\n",
    "webhook_host = \"0.0.0.0\"\n",
    "\n",
    "await agent_controller.init_webhook_server(webhook_host, webhook_port)\n",
    "\n",
    "print(f\"Listening for webhooks from agent at http://{webhook_host}:{webhook_port}\")"
   ]
  },
  {
   "cell_type": "code",
   "execution_count": 4,
   "id": "4f4501dc",
   "metadata": {},
   "outputs": [],
   "source": [
    "class Contact:\n",
    "    \n",
    "    def __init__(self, connection_id, alias, agent_label = None):\n",
    "        self.connection_id = connection_id\n",
    "        self.alias = alias\n",
    "        self.agent_label = None\n",
    "        self.inbox = []\n",
    "        self.is_active = asyncio.Future()\n",
    "        \n",
    "    def new_message(self, content, state):\n",
    "        message = Message(content, state)\n",
    "        self.inbox.append(message)\n",
    "        \n",
    "    def display_inbox(self):\n",
    "        inbox_str = \"-\"*50\n",
    "        inbox_str += \"\\n\"\n",
    "        inbox_str += f\"Inbox for Contact {self.alias} \\n\"\n",
    "        \n",
    "        inbox_str += \"\\n\"\n",
    "        inbox_str = \"-\"*50\n",
    "        inbox_str += \"\\n\"\n",
    "        inbox_str += f\"Connection ID : {self.connection_id} \\nAgent Label : {self.agent_label} \\nTotal Messages : {len(self.inbox)}\"\n",
    "        inbox_str += \"\\n\\n\"\n",
    "        inbox_str += \"-\"*50\n",
    "        for message in self.inbox:\n",
    "            inbox_str += \"\\n\"\n",
    "            inbox_str += message.to_string()\n",
    "        return inbox_str"
   ]
  },
  {
   "cell_type": "code",
   "execution_count": 6,
   "id": "adf67e8b",
   "metadata": {},
   "outputs": [],
   "source": [
    "from datetime import datetime\n",
    "\n",
    "class Message:\n",
    "\n",
    "    def __init__(self, content, state):\n",
    "        self.content = content\n",
    "        self.state = state\n",
    "        self.time = datetime.now()\n",
    "        \n",
    "    def to_string(self):\n",
    "        msg_str = self.time.strftime(\"%c\")\n",
    "        n = 25\n",
    "        words = self.content.split()\n",
    "        \n",
    "        msg_chunks = [self.content[i:i+n] for i in range(0, len(self.content), n)]\n",
    "        line_start = \"\"\n",
    "        if self.state == \"sent\":\n",
    "            line_start += (\" \"*25)\n",
    "        current_line = \"\"\n",
    "        for word in words:\n",
    "            current_line += (word + \" \")\n",
    "            if len(current_line) > 25:\n",
    "                msg_str += \"\\n\"\n",
    "                msg_str += (line_start + current_line)\n",
    "                current_line = \"\"\n",
    "        if not current_line == \"\":\n",
    "            msg_str += \"\\n\"\n",
    "            msg_str += (line_start + current_line)\n",
    "        msg_str += \"\\n\"\n",
    "        msg_str += (\"-\"*50)\n",
    "        return msg_str"
   ]
  },
  {
   "cell_type": "code",
   "execution_count": 7,
   "id": "bb8aaa1c",
   "metadata": {},
   "outputs": [
    {
     "name": "stdout",
     "output_type": "stream",
     "text": [
      "Tue Jun  1 15:05:22 2021\n",
      "Some really quite long content \n",
      "how long is really long though \n",
      "I mean come on \n",
      "--------------------------------------------------\n"
     ]
    }
   ],
   "source": [
    "message = Message(\"Some really quite long content how long is really long though I mean come on\", \"received\")\n",
    "print(message.to_string())"
   ]
  },
  {
   "cell_type": "code",
   "execution_count": 8,
   "id": "73b3291d",
   "metadata": {},
   "outputs": [],
   "source": [
    "import json\n",
    "\n",
    "class MessagingService:\n",
    "    \n",
    "    def __init__(self, agent_controller):\n",
    "        self.agent_controller = agent_controller\n",
    "        self.contacts: list[Contact] = []\n",
    "        \n",
    "        listeners = [\n",
    "            {\n",
    "                \"handler\": self._messages_handler,\n",
    "                \"topic\": \"basicmessages\"\n",
    "            },\n",
    "            {\n",
    "                \"handler\": self._connections_handler,\n",
    "                \"topic\": \"connections\"\n",
    "            }\n",
    "        ]\n",
    "        \n",
    "        self.agent_controller.register_listeners(listeners)\n",
    "        \n",
    "    \n",
    "    def _messages_handler(self, payload):\n",
    "        connection_id = payload[\"connection_id\"]\n",
    "        contact = self.find_contact_by_id(connection_id)\n",
    "        if contact:\n",
    "            print(f\"Message received from connection {connection_id} with alias {contact.alias}\")\n",
    "            content = payload[\"content\"]\n",
    "            state = \"received\"\n",
    "            \n",
    "           \n",
    "            contact.new_message(content, state)\n",
    "    \n",
    "    # Receive connection messages\n",
    "    def _connections_handler(self, payload):\n",
    "        state = payload['state']\n",
    "        connection_id = payload[\"connection_id\"]\n",
    "        their_role = payload[\"their_role\"]\n",
    "        routing_state = payload[\"routing_state\"]\n",
    "        their_label = payload[\"their_label\"]\n",
    "\n",
    "#         if state == \"invitation\":\n",
    "#             # Your business logic\n",
    "#             print(\"invitation\")\n",
    "#         elif state == \"request\":\n",
    "#             # Your business logic\n",
    "#             print(\"request\")\n",
    "\n",
    "#         elif state == \"response\":\n",
    "#             # Your business logic\n",
    "#             print(\"response\")\n",
    "        if state == \"active\":\n",
    "            contact = self.find_contact_by_id(connection_id)\n",
    "            if contact:\n",
    "                contact.is_active.set_result(True)\n",
    "                contact.agent_label = their_label\n",
    "                print(colored(\"Contact with ID: {0} and alias {1} is now active.\".format(connection_id, contact.alias), \"green\", attrs=[\"bold\"]))\n",
    "            else:\n",
    "                print(f\"No contact for active connection with ID {connection_id}\")\n",
    "                \n",
    "            # Your business logic\n",
    "            \n",
    "        \n",
    "    def find_contact_by_id(self, connection_id):\n",
    "        contact_exists = False\n",
    "        for contact in self.contacts:\n",
    "            if contact.connection_id == connection_id:\n",
    "                return contact\n",
    "        return None\n",
    "    \n",
    "    def display_inbox_for_contact(self, connection_id):\n",
    "        contact = self.find_contact_by_id(connection_id)\n",
    "        if not contact:\n",
    "            print(f\"No contact saved for connection with id {connection_id}\")\n",
    "            return\n",
    "        print(contact.display_inbox())\n",
    "    \n",
    "    def view_inbox(self):\n",
    "        inbox_view = \"-\"* 50\n",
    "        inbox_view += \"\\n\"\n",
    "        inbox_view += f\"{len(self.contacts)} Contacts\"\n",
    "        inbox_view += \"\\n\"\n",
    "        inbox_view = \"-\"* 50\n",
    "        inbox_view += \"\\n\"\n",
    "        for contact in self.contacts:\n",
    "            inbox_view += f\"Contact {contact.alias} with ID {contact.id} \\n\"\n",
    "            inbox_view += f\"Messages {len(contact.messages)} \\n\"\n",
    "            inbox_view = \"-\"* 50\n",
    "            inbox_view += \"\\n\"\n",
    "        print(inbox_view)\n",
    "        \n",
    "        \n",
    "    \n",
    "    \n",
    "    def send_message(self, connection_id, content):\n",
    "        contact = self.find_contact_by_id(connection_id)\n",
    "        if contact:\n",
    "            if contact.is_active:\n",
    "                state = \"sent\"\n",
    "                loop = asyncio.get_event_loop()\n",
    "                loop.run_until_complete(self.agent_controller.messaging.send_message(connection_id, content))\n",
    "                contact.new_message(content, state)\n",
    "            else:\n",
    "                print(f\"Contact {contact.alias} is not yet an active connection\")\n",
    "        else: \n",
    "            print(f\"No contact saved for connection id {connection_id}\")\n",
    "        \n",
    "    def add_contact(self, connection_id, alias):\n",
    "        contact = Contact(connection_id, alias)\n",
    "        print(f\"Contact with ID {connection_id} and alias {alias} added\")\n",
    "        self.contacts.append(contact)\n",
    "    \n",
    "    def new_contact_invite(self, alias):\n",
    "        auto_accept = True\n",
    "        # Use public DID?\n",
    "        public = \"false\"\n",
    "        # Should this invitation be usable by multiple invitees?\n",
    "        multi_use = \"false\"\n",
    "        loop = asyncio.get_event_loop()\n",
    "        response = loop.run_until_complete(agent_controller.connections.create_invitation(alias, auto_accept, public, multi_use))\n",
    "        invitation = response[\"invitation\"]\n",
    "        connection_id = response[\"connection_id\"]\n",
    "        self.add_contact(connection_id, alias)\n",
    "        return json.dumps(invitation)\n",
    "        \n",
    "    \n",
    "    def accept_contact_invitation(self, invitation, alias, label = None):\n",
    "        loop = asyncio.get_event_loop()\n",
    "        auto_accept=\"false\"\n",
    "        response = loop.run_until_complete(agent_controller.connections.receive_invitation(invitation,alias, auto_accept))\n",
    "        connection_id = response[\"connection_id\"]\n",
    "        self.add_contact(connection_id, alias)\n",
    "\n",
    "        \n",
    "        # Endpoint you expect to recieve messages at\n",
    "        my_endpoint = None\n",
    "\n",
    "        accept_response = loop.run_until_complete(agent_controller.connections.accept_invitation(connection_id, label, my_endpoint))\n",
    "        return connection_id\n",
    "            "
   ]
  },
  {
   "cell_type": "code",
   "execution_count": null,
   "id": "befb7907",
   "metadata": {},
   "outputs": [],
   "source": []
  },
  {
   "cell_type": "code",
   "execution_count": 9,
   "id": "8737d2d5",
   "metadata": {},
   "outputs": [],
   "source": [
    "messaging_service = MessagingService(agent_controller)"
   ]
  },
  {
   "cell_type": "code",
   "execution_count": 10,
   "id": "5a960165",
   "metadata": {},
   "outputs": [],
   "source": [
    "invitation = {'@type': 'did:sov:BzCbsNYhMrjHiqZDTUASHg;spec/connections/1.0/invitation', '@id': '1e6f60e5-071c-41c9-977b-ca27007c278d', 'serviceEndpoint': 'https://0025438b5333.ngrok.io', 'label': 'Hyperledger Global Forum', 'recipientKeys': ['4bTvq7oN64hYqUwMedQ3b5aHUo7WjKfTuMZnqA2bAfzw']}"
   ]
  },
  {
   "cell_type": "code",
   "execution_count": 11,
   "id": "c373dac1",
   "metadata": {},
   "outputs": [
    {
     "name": "stdout",
     "output_type": "stream",
     "text": [
      "----------------------------------------------------------\n",
      "Connection Webhook Event Received\n",
      "Connection ID :  f489913b-2d7d-45e0-a924-8d7b9738d579\n",
      "State :  invitation\n",
      "Routing State :  none\n",
      "Their Role :  inviter\n",
      "----------------------------------------------------------\n",
      "invitation\n",
      "Contact with ID f489913b-2d7d-45e0-a924-8d7b9738d579 and alias HLGF added\n",
      "----------------------------------------------------------\n",
      "Connection Webhook Event Received\n",
      "Connection ID :  f489913b-2d7d-45e0-a924-8d7b9738d579\n",
      "State :  request\n",
      "Routing State :  none\n",
      "Their Role :  inviter\n",
      "----------------------------------------------------------\n",
      "request\n",
      "----------------------------------------------------------\n",
      "Connection Webhook Event Received\n",
      "Connection ID :  f489913b-2d7d-45e0-a924-8d7b9738d579\n",
      "State :  response\n",
      "Routing State :  none\n",
      "Their Role :  inviter\n",
      "----------------------------------------------------------\n",
      "response\n",
      "----------------------------------------------------------\n",
      "Connection Webhook Event Received\n",
      "Connection ID :  f489913b-2d7d-45e0-a924-8d7b9738d579\n",
      "State :  active\n",
      "Routing State :  none\n",
      "Their Role :  inviter\n",
      "----------------------------------------------------------\n",
      "\u001b[1m\u001b[32mContact with ID: f489913b-2d7d-45e0-a924-8d7b9738d579 and alias HLGF is now active.\u001b[0m\n"
     ]
    }
   ],
   "source": [
    "new_contact_id = messaging_service.accept_contact_invitation(invitation, \"HLGF\")"
   ]
  },
  {
   "cell_type": "code",
   "execution_count": 12,
   "id": "7704347d",
   "metadata": {},
   "outputs": [
    {
     "name": "stdout",
     "output_type": "stream",
     "text": [
      "Message received from connection f489913b-2d7d-45e0-a924-8d7b9738d579 with alias HLGF\n"
     ]
    }
   ],
   "source": [
    "messaging_service.send_message(new_contact_id, \"Some second super super super great test message\")"
   ]
  },
  {
   "cell_type": "code",
   "execution_count": 13,
   "id": "c72301ad",
   "metadata": {},
   "outputs": [
    {
     "name": "stdout",
     "output_type": "stream",
     "text": [
      "--------------------------------------------------\n",
      "\n",
      "Inbox for Contact HLGF \n",
      " Connection ID : f489913b-2d7d-45e0-a924-8d7b9738d579 \n",
      " Agent Label : Hyperledger Global Forum \n",
      " Total Messages : 2\n",
      "\n",
      "--------------------------------------------------\n",
      "Tue Jun  1 15:05:48 2021\n",
      "                         Some second super super super \n",
      "                         great test message \n",
      "--------------------------------------------------\n",
      "Tue Jun  1 15:05:48 2021\n",
      "Hyperledger Global Forum received \n",
      "your message \n",
      "--------------------------------------------------\n"
     ]
    }
   ],
   "source": [
    "messaging_service.display_inbox_for_contact(new_contact_id)"
   ]
  },
  {
   "cell_type": "markdown",
   "id": "a154920b",
   "metadata": {},
   "source": [
    "## Terminate Controller\n",
    "\n",
    "Whenever you have finished with this notebook, be sure to terminate the controller. This is especially important if your business logic runs across multiple notebooks."
   ]
  },
  {
   "cell_type": "code",
   "execution_count": null,
   "id": "c6e79c07",
   "metadata": {},
   "outputs": [],
   "source": [
    "await agent_controller.terminate()"
   ]
  }
 ],
 "metadata": {
  "kernelspec": {
   "display_name": "Python 3",
   "language": "python",
   "name": "python3"
  },
  "language_info": {
   "codemirror_mode": {
    "name": "ipython",
    "version": 3
   },
   "file_extension": ".py",
   "mimetype": "text/x-python",
   "name": "python",
   "nbconvert_exporter": "python",
   "pygments_lexer": "ipython3",
   "version": "3.7.6"
  }
 },
 "nbformat": 4,
 "nbformat_minor": 5
}
