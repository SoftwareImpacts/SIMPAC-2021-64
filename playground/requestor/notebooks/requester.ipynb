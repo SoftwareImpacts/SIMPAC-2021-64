{
 "cells": [
  {
   "cell_type": "code",
   "execution_count": 1,
   "id": "1887efcc",
   "metadata": {},
   "outputs": [],
   "source": [
    "from aries_cloudcontroller import AriesAgentController\n",
    "import os\n",
    "from termcolor import colored\n",
    "import asyncio"
   ]
  },
  {
   "cell_type": "code",
   "execution_count": 2,
   "id": "96a21317",
   "metadata": {},
   "outputs": [
    {
     "name": "stdout",
     "output_type": "stream",
     "text": [
      "Initialising a controller with admin api at http://requestor-agent:3021 and an api key of adminApiKey\n"
     ]
    }
   ],
   "source": [
    "api_key = os.getenv(\"ACAPY_ADMIN_API_KEY\")\n",
    "admin_url = os.getenv(\"ADMIN_URL\")\n",
    "\n",
    "print(f\"Initialising a controller with admin api at {admin_url} and an api key of {api_key}\")\n",
    "agent_controller = AriesAgentController(admin_url,api_key)"
   ]
  },
  {
   "cell_type": "code",
   "execution_count": 3,
   "id": "d031e8d9",
   "metadata": {},
   "outputs": [
    {
     "name": "stdout",
     "output_type": "stream",
     "text": [
      "Listening for webhooks from agent at http://0.0.0.0:3010\n"
     ]
    }
   ],
   "source": [
    "webhook_port = int(os.getenv(\"WEBHOOK_PORT\"))\n",
    "webhook_host = \"0.0.0.0\"\n",
    "\n",
    "await agent_controller.init_webhook_server(webhook_host, webhook_port)\n",
    "\n",
    "print(f\"Listening for webhooks from agent at http://{webhook_host}:{webhook_port}\")"
   ]
  },
  {
   "cell_type": "code",
   "execution_count": 4,
   "id": "b313f581",
   "metadata": {},
   "outputs": [],
   "source": [
    "listeners = []\n",
    "\n",
    "# Receive connection messages\n",
    "def connections_handler(payload):\n",
    "    state = payload['state']\n",
    "    connection_id = payload[\"connection_id\"]\n",
    "    \n",
    "    print(\"----------------------------------------------------------\")\n",
    "    print(\"Connection Webhook Event Received\")\n",
    "    print(\"Connection ID : \", connection_id)\n",
    "    print(\"State : \", state)\n",
    "    print(\"----------------------------------------------------------\")\n",
    "\n",
    "    if state == \"invitation\":\n",
    "        # Your business logic\n",
    "        print(\"invitation\")\n",
    "    elif state == \"request\":\n",
    "        # Your business logic\n",
    "        print(\"request\")\n",
    "    elif state == \"response\":\n",
    "        # Your business logic\n",
    "        print(\"response\")\n",
    "    elif state == \"active\":\n",
    "        # Your business logic\n",
    "        print(colored(\"Connection ID: {0} is now active.\".format(connection_id), \"green\", attrs=[\"bold\"]))\n",
    "\n",
    "\n",
    "\n",
    "connection_listener = {\n",
    "    \"handler\": connections_handler,\n",
    "    \"topic\": \"connections\"\n",
    "}\n",
    "\n",
    "listeners.append(connection_listener)\n",
    "\n",
    "agent_controller.register_listeners(listeners,defaults=True)"
   ]
  },
  {
   "cell_type": "markdown",
   "id": "63a7b921",
   "metadata": {},
   "source": [
    "## Create Invite Before Requesting Mediation\n",
    "\n"
   ]
  },
  {
   "cell_type": "code",
   "execution_count": 5,
   "id": "572b5951",
   "metadata": {},
   "outputs": [
    {
     "name": "stdout",
     "output_type": "stream",
     "text": [
      "----------------------------------------------------------\n",
      "Connection Webhook Event Received\n",
      "Connection ID :  ef96fb3b-c499-477c-b040-16f3ffc4cafb\n",
      "State :  invitation\n",
      "----------------------------------------------------------\n",
      "invitation\n"
     ]
    }
   ],
   "source": [
    "unmediated_invitation = await agent_controller.connections.create_invitation()"
   ]
  },
  {
   "cell_type": "markdown",
   "id": "0b70da20",
   "metadata": {},
   "source": [
    "## Make Connection with Mediator"
   ]
  },
  {
   "cell_type": "code",
   "execution_count": 6,
   "id": "04a26a7b",
   "metadata": {},
   "outputs": [],
   "source": [
    "mediator_invitation = {'@type': 'did:sov:BzCbsNYhMrjHiqZDTUASHg;spec/connections/1.0/invitation', '@id': '0ea5e233-7d65-41b6-bf39-d22c3b6bc6f8', 'label': 'MediatorAgent', 'serviceEndpoint': 'https://8dee682d2e61.ngrok.io', 'recipientKeys': ['3cVWmAw4Y6gLt2e2B3qEHuXHKx3rQh761F4XZ5tFgXsZ']}\n",
    "\n"
   ]
  },
  {
   "cell_type": "code",
   "execution_count": 7,
   "id": "11c9d86b",
   "metadata": {},
   "outputs": [
    {
     "name": "stdout",
     "output_type": "stream",
     "text": [
      "----------------------------------------------------------\n",
      "Connection Webhook Event Received\n",
      "Connection ID :  633dc49f-f502-45f8-88c3-b7e044adb465\n",
      "State :  invitation\n",
      "----------------------------------------------------------\n",
      "invitation\n",
      "----------------------------------------------------------\n",
      "Connection Webhook Event Received\n",
      "Connection ID :  633dc49f-f502-45f8-88c3-b7e044adb465\n",
      "State :  request\n",
      "----------------------------------------------------------\n",
      "request\n",
      "----------------------------------------------------------\n",
      "Connection Webhook Event Received\n",
      "Connection ID :  633dc49f-f502-45f8-88c3-b7e044adb465\n",
      "State :  response\n",
      "----------------------------------------------------------\n",
      "response\n",
      "----------------------------------------------------------\n",
      "Connection Webhook Event Received\n",
      "Connection ID :  633dc49f-f502-45f8-88c3-b7e044adb465\n",
      "State :  active\n",
      "----------------------------------------------------------\n",
      "\u001b[1m\u001b[32mConnection ID: 633dc49f-f502-45f8-88c3-b7e044adb465 is now active.\u001b[0m\n"
     ]
    }
   ],
   "source": [
    "response = await agent_controller.connections.receive_invitation(mediator_invitation)"
   ]
  },
  {
   "cell_type": "code",
   "execution_count": 8,
   "id": "716f6226",
   "metadata": {},
   "outputs": [
    {
     "name": "stdout",
     "output_type": "stream",
     "text": [
      "633dc49f-f502-45f8-88c3-b7e044adb465\n"
     ]
    }
   ],
   "source": [
    "connection_id = response[\"connection_id\"]\n",
    "print(connection_id)"
   ]
  },
  {
   "cell_type": "markdown",
   "id": "fe7193a6",
   "metadata": {},
   "source": [
    "### Request mediation"
   ]
  },
  {
   "cell_type": "code",
   "execution_count": 9,
   "id": "46fc4a8a",
   "metadata": {},
   "outputs": [
    {
     "name": "stdout",
     "output_type": "stream",
     "text": [
      "{'updated_at': '2021-06-04 15:58:23.162699Z', 'role': 'client', 'created_at': '2021-06-04 15:58:23.162699Z', 'connection_id': '633dc49f-f502-45f8-88c3-b7e044adb465', 'mediator_terms': [], 'recipient_terms': [], 'state': 'request', 'mediation_id': '457f2eea-bd2a-458f-8773-05ec180adf3b', 'routing_keys': []}\n"
     ]
    }
   ],
   "source": [
    "### check state of connection\n",
    "connection = await agent_controller.connections.get_connection(connection_id)\n",
    "\n",
    "# Let's check for the state\n",
    "if connection['state'] != 'active':\n",
    "    print(\"No active connection. \\n Please go back and ensure you have established an active connection between the mediator agent and Alice's subwallet agent\")    \n",
    "else:\n",
    "    ## request mediation\n",
    "    mediation_req = await agent_controller.mediation.request_mediation(connection_id)\n",
    "    print(mediation_req)\n",
    "    \n"
   ]
  },
  {
   "cell_type": "markdown",
   "id": "98a3dabb",
   "metadata": {},
   "source": [
    "## Check Mediation Records\n",
    "\n",
    "State should be \"granted\" if mediator agent has accepted the mediation request"
   ]
  },
  {
   "cell_type": "code",
   "execution_count": 10,
   "id": "a527ccef",
   "metadata": {},
   "outputs": [
    {
     "name": "stdout",
     "output_type": "stream",
     "text": [
      "[{'updated_at': '2021-06-04 15:58:23.511646Z', 'role': 'client', 'created_at': '2021-06-04 15:58:23.162699Z', 'connection_id': '633dc49f-f502-45f8-88c3-b7e044adb465', 'mediator_terms': [], 'recipient_terms': [], 'state': 'granted', 'mediation_id': '457f2eea-bd2a-458f-8773-05ec180adf3b', 'routing_keys': ['4HAkhmf5cJ5V9LHLs3jE8VDrufNaJQEiegE7nz3E8S9h'], 'endpoint': 'https://8dee682d2e61.ngrok.io'}]\n",
      "State : granted\n"
     ]
    }
   ],
   "source": [
    "### To have a look at the mediation records and we should see our mediation in there\n",
    "response = await agent_controller.mediation.get_mediation_records()\n",
    "print(response)\n",
    "print(f\"State : {response[0]['state']}\")"
   ]
  },
  {
   "cell_type": "markdown",
   "id": "eb5afa74",
   "metadata": {},
   "source": [
    "## Set Default Mediator\n",
    "\n",
    "Your agent will automatically use this mediator when creating connections"
   ]
  },
  {
   "cell_type": "code",
   "execution_count": null,
   "id": "1686923b",
   "metadata": {},
   "outputs": [],
   "source": [
    "default_mediation_res = await agent_controller.mediation.set_default_mediator(response[0]['mediation_id'])\n",
    "print(default_mediation_res)"
   ]
  },
  {
   "cell_type": "markdown",
   "id": "56ac8f63",
   "metadata": {},
   "source": [
    "## Create Mediated Connection Invitation"
   ]
  },
  {
   "cell_type": "code",
   "execution_count": null,
   "id": "3e7b38a6",
   "metadata": {},
   "outputs": [],
   "source": [
    "mediated_conn_invitation = await agent_controller.connections.create_invitation()\n"
   ]
  },
  {
   "cell_type": "markdown",
   "id": "d4b462a8",
   "metadata": {},
   "source": [
    "## See the Difference Between Invitations\n",
    "\n",
    "The mediated connection invitation uses the routing keys and service endpoint provided by the mediator."
   ]
  },
  {
   "cell_type": "code",
   "execution_count": null,
   "id": "53e83a21",
   "metadata": {},
   "outputs": [],
   "source": [
    "mediated_routing_keys = mediated_conn_invitation[\"invitation\"][\"routingKeys\"]\n",
    "mediated_endpoint = mediated_conn_invitation[\"invitation\"][\"serviceEndpoint\"]\n",
    "unmediated_routing_key = unmediated_invitation[\"invitation\"][\"routingKeys\"]\n",
    "unmediated_endpoint = unmediated_invitation[\"invitation\"][\"serviceEndpoint\"]\n",
    "\n",
    "print(\"Before Mediation\")\n",
    "print(f\"Endpoint : {unmediated_endpoint}, Routing Keys : {unmediated_routing_key}\")\n",
    "print(\"After Mediation\")\n",
    "print(f\"Endpoint : {mediated_endpoint}, Routing Keys : {mediated_routing_keys}\")"
   ]
  },
  {
   "cell_type": "markdown",
   "id": "74a06c12",
   "metadata": {},
   "source": [
    "## Terminate Controller"
   ]
  },
  {
   "cell_type": "code",
   "execution_count": 12,
   "id": "fc4013a5",
   "metadata": {},
   "outputs": [],
   "source": [
    "await agent_controller.terminate()"
   ]
  },
  {
   "cell_type": "code",
   "execution_count": null,
   "id": "c7a2f1b3",
   "metadata": {},
   "outputs": [],
   "source": []
  }
 ],
 "metadata": {
  "kernelspec": {
   "display_name": "Python 3",
   "language": "python",
   "name": "python3"
  },
  "language_info": {
   "codemirror_mode": {
    "name": "ipython",
    "version": 3
   },
   "file_extension": ".py",
   "mimetype": "text/x-python",
   "name": "python",
   "nbconvert_exporter": "python",
   "pygments_lexer": "ipython3",
   "version": "3.7.6"
  }
 },
 "nbformat": 4,
 "nbformat_minor": 5
}
