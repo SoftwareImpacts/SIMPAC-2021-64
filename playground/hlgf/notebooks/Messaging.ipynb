{
 "cells": [
  {
   "cell_type": "markdown",
   "id": "1a61372f",
   "metadata": {},
   "source": [
    "# Messaging\n"
   ]
  },
  {
   "cell_type": "markdown",
   "id": "2d934165",
   "metadata": {},
   "source": [
    "### Imports"
   ]
  },
  {
   "cell_type": "code",
   "execution_count": 1,
   "id": "92e4d721",
   "metadata": {},
   "outputs": [],
   "source": [
    "from aries_cloudcontroller import AriesAgentController\n",
    "from libs.messaging_service import MessagingService\n",
    "import os\n",
    "from termcolor import colored"
   ]
  },
  {
   "cell_type": "markdown",
   "id": "34fb7b89",
   "metadata": {},
   "source": [
    "### Initialise the Agent Controller"
   ]
  },
  {
   "cell_type": "code",
   "execution_count": 2,
   "id": "ef6c79f0",
   "metadata": {},
   "outputs": [
    {
     "name": "stdout",
     "output_type": "stream",
     "text": [
      "Initialising a controller with admin api at http://hlgf-agent:3021 and an api key of adminApiKey\n"
     ]
    }
   ],
   "source": [
    "api_key = os.getenv(\"ACAPY_ADMIN_API_KEY\")\n",
    "admin_url = os.getenv(\"ADMIN_URL\")\n",
    "\n",
    "print(f\"Initialising a controller with admin api at {admin_url} and an api key of {api_key}\")\n",
    "agent_controller = AriesAgentController(admin_url,api_key)"
   ]
  },
  {
   "cell_type": "markdown",
   "id": "d66457d0",
   "metadata": {},
   "source": [
    "### Start a Webhook Server"
   ]
  },
  {
   "cell_type": "code",
   "execution_count": 3,
   "id": "65cfd762",
   "metadata": {},
   "outputs": [
    {
     "name": "stdout",
     "output_type": "stream",
     "text": [
      "Listening for webhooks from agent at http://0.0.0.0:3010\n"
     ]
    }
   ],
   "source": [
    "webhook_port = int(os.getenv(\"WEBHOOK_PORT\"))\n",
    "webhook_host = \"0.0.0.0\"\n",
    "\n",
    "await agent_controller.init_webhook_server(webhook_host, webhook_port)\n",
    "\n",
    "print(f\"Listening for webhooks from agent at http://{webhook_host}:{webhook_port}\")"
   ]
  },
  {
   "cell_type": "markdown",
   "id": "f735c196",
   "metadata": {},
   "source": [
    "## Instatiate Messaging Service"
   ]
  },
  {
   "cell_type": "code",
   "execution_count": 4,
   "id": "7a267c28",
   "metadata": {},
   "outputs": [],
   "source": [
    "messaging_service = MessagingService(agent_controller)"
   ]
  },
  {
   "cell_type": "markdown",
   "id": "9721ab9b",
   "metadata": {},
   "source": [
    "## Add New Contacts"
   ]
  },
  {
   "cell_type": "markdown",
   "id": "7d409395",
   "metadata": {},
   "source": [
    "### Either Create an Invitation and Share"
   ]
  },
  {
   "cell_type": "code",
   "execution_count": null,
   "id": "268ce79b",
   "metadata": {},
   "outputs": [],
   "source": [
    "alias = \"Demo Participant\"\n",
    "response = messaging_service.new_contact_invite(alias)\n",
    "\n",
    "# If you want to display as Q.R for example\n",
    "invitation = response[\"invitation\"]\n",
    "\n",
    "new_contact_id = response[\"connection_id\"]"
   ]
  },
  {
   "cell_type": "markdown",
   "id": "369bbbf3",
   "metadata": {},
   "source": [
    "### Or Add Contact using Invitation You have been sent"
   ]
  },
  {
   "cell_type": "code",
   "execution_count": 5,
   "id": "68647eb7",
   "metadata": {},
   "outputs": [],
   "source": [
    "invitation = {\"@type\": \"did:sov:BzCbsNYhMrjHiqZDTUASHg;spec/connections/1.0/invitation\", \"@id\": \"e751243f-9db3-4db8-bd66-ca252fda8289\", \"label\": \"Demo Participant\", \"recipientKeys\": [\"9vBrodjt67R2psV88YjPVXPxdTF3v8PFjdXHoLVUjg8x\"], \"serviceEndpoint\": \"https://0f8e21a7a624.ngrok.io\"}\n"
   ]
  },
  {
   "cell_type": "code",
   "execution_count": 6,
   "id": "a13b73d5",
   "metadata": {},
   "outputs": [
    {
     "name": "stdout",
     "output_type": "stream",
     "text": [
      "Contact with ID 41a2484b-d797-4025-b4e7-179c36c1a081 and alias HLGF added\n",
      "\u001b[1m\u001b[32mContact with ID: 41a2484b-d797-4025-b4e7-179c36c1a081 and alias HLGF is now active.\u001b[0m\n"
     ]
    }
   ],
   "source": [
    "new_contact_id = messaging_service.accept_contact_invitation(invitation, \"HLGF\")"
   ]
  },
  {
   "cell_type": "markdown",
   "id": "573972e9",
   "metadata": {},
   "source": [
    "## Send Message"
   ]
  },
  {
   "cell_type": "code",
   "execution_count": 7,
   "id": "4e7d6edb",
   "metadata": {},
   "outputs": [
    {
     "name": "stdout",
     "output_type": "stream",
     "text": [
      "Message received from connection 41a2484b-d797-4025-b4e7-179c36c1a081 with alias HLGF\n"
     ]
    }
   ],
   "source": [
    "some_arbitrary_sized_message = \"Hello\"\n",
    "messaging_service.send_message(new_contact_id, some_arbitrary_sized_message)"
   ]
  },
  {
   "cell_type": "markdown",
   "id": "daad4a07",
   "metadata": {},
   "source": [
    "## Terminate Controller\n",
    "\n",
    "Whenever you have finished with this notebook, be sure to terminate the controller. This is especially important if your business logic runs across multiple notebooks."
   ]
  },
  {
   "cell_type": "code",
   "execution_count": null,
   "id": "b2118568",
   "metadata": {},
   "outputs": [],
   "source": [
    "await agent_controller.terminate()"
   ]
  }
 ],
 "metadata": {
  "kernelspec": {
   "display_name": "Python 3",
   "language": "python",
   "name": "python3"
  },
  "language_info": {
   "codemirror_mode": {
    "name": "ipython",
    "version": 3
   },
   "file_extension": ".py",
   "mimetype": "text/x-python",
   "name": "python",
   "nbconvert_exporter": "python",
   "pygments_lexer": "ipython3",
   "version": "3.7.6"
  }
 },
 "nbformat": 4,
 "nbformat_minor": 5
}
