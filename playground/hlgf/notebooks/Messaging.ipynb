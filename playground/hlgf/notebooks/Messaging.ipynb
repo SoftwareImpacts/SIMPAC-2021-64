{
 "cells": [
  {
   "cell_type": "markdown",
   "id": "cf637a64",
   "metadata": {},
   "source": [
    "# Messaging\n"
   ]
  },
  {
   "cell_type": "markdown",
   "id": "817ef4c1",
   "metadata": {},
   "source": [
    "### Imports"
   ]
  },
  {
   "cell_type": "code",
   "execution_count": 1,
   "id": "98e7b7a0",
   "metadata": {},
   "outputs": [],
   "source": [
    "from aries_cloudcontroller import AriesAgentController\n",
    "from libs.messaging_service import MessagingService\n",
    "import os\n",
    "from termcolor import colored"
   ]
  },
  {
   "cell_type": "markdown",
   "id": "ebfb460e",
   "metadata": {},
   "source": [
    "### Initialise the Agent Controller"
   ]
  },
  {
   "cell_type": "code",
   "execution_count": 2,
   "id": "7220489f",
   "metadata": {},
   "outputs": [
    {
     "name": "stdout",
     "output_type": "stream",
     "text": [
      "Initialising a controller with admin api at http://hlgf-agent:3021 and an api key of adminApiKey\n"
     ]
    }
   ],
   "source": [
    "api_key = os.getenv(\"ACAPY_ADMIN_API_KEY\")\n",
    "admin_url = os.getenv(\"ADMIN_URL\")\n",
    "\n",
    "print(f\"Initialising a controller with admin api at {admin_url} and an api key of {api_key}\")\n",
    "agent_controller = AriesAgentController(admin_url,api_key)"
   ]
  },
  {
   "cell_type": "markdown",
   "id": "957d7ff4",
   "metadata": {},
   "source": [
    "### Start a Webhook Server"
   ]
  },
  {
   "cell_type": "code",
   "execution_count": 3,
   "id": "b8d7d6c4",
   "metadata": {},
   "outputs": [
    {
     "name": "stdout",
     "output_type": "stream",
     "text": [
      "Listening for webhooks from agent at http://0.0.0.0:3010\n"
     ]
    }
   ],
   "source": [
    "webhook_port = int(os.getenv(\"WEBHOOK_PORT\"))\n",
    "webhook_host = \"0.0.0.0\"\n",
    "\n",
    "await agent_controller.init_webhook_server(webhook_host, webhook_port)\n",
    "\n",
    "print(f\"Listening for webhooks from agent at http://{webhook_host}:{webhook_port}\")"
   ]
  },
  {
   "cell_type": "markdown",
   "id": "b60929c0",
   "metadata": {},
   "source": [
    "## Instatiate Messaging Service"
   ]
  },
  {
   "cell_type": "code",
   "execution_count": 4,
   "id": "3955e400",
   "metadata": {},
   "outputs": [],
   "source": [
    "messaging_service = MessagingService(agent_controller)"
   ]
  },
  {
   "cell_type": "markdown",
   "id": "53a2ad69",
   "metadata": {},
   "source": [
    "## Add New Contacts"
   ]
  },
  {
   "cell_type": "markdown",
   "id": "06842d6b",
   "metadata": {},
   "source": [
    "### Either Create an Invitation and Share"
   ]
  },
  {
   "cell_type": "code",
   "execution_count": 5,
   "id": "aab04116",
   "metadata": {},
   "outputs": [
    {
     "name": "stdout",
     "output_type": "stream",
     "text": [
      "Contact with ID 3f63c539-90b2-4692-82e3-105f394e93af and alias Demo Participant added\n",
      "----------------------------------------------------------------------------------------------------\n",
      "\n",
      "Share this invite object with another entity you wish to add as a contact under alias Demo Participant\n",
      "\n",
      "{\"@type\": \"did:sov:BzCbsNYhMrjHiqZDTUASHg;spec/connections/1.0/invitation\", \"@id\": \"b352adae-24fe-44d0-a6dc-43c853242d17\", \"serviceEndpoint\": \"https://3a8742dc608e.ngrok.io\", \"label\": \"Hyperledger Global Forum\", \"recipientKeys\": [\"JE9d6umnBNqrdftsa9nLG2ExkzjdyVPrG9ghGMZ7UNxP\"]}\n",
      "\n",
      "\n",
      "----------------------------------------------------------------------------------------------------\n",
      "\u001b[1m\u001b[32mContact with ID: 3f63c539-90b2-4692-82e3-105f394e93af and alias Demo Participant is now active.\u001b[0m\n",
      "Message received from connection 3f63c539-90b2-4692-82e3-105f394e93af with alias Demo Participant\n",
      "Message received from connection 3f63c539-90b2-4692-82e3-105f394e93af with alias Demo Participant\n"
     ]
    }
   ],
   "source": [
    "alias = \"Demo Participant\"\n",
    "response = messaging_service.new_contact_invite(alias)\n",
    "\n",
    "# If you want to display as Q.R for example\n",
    "invitation = response[\"invitation\"]\n",
    "\n",
    "new_contact_id = response[\"connection_id\"]"
   ]
  },
  {
   "cell_type": "markdown",
   "id": "2a294565",
   "metadata": {},
   "source": [
    "### Or Add Contact using Invitation You have been sent"
   ]
  },
  {
   "cell_type": "code",
   "execution_count": null,
   "id": "0b294b6c",
   "metadata": {},
   "outputs": [],
   "source": [
    "invitation = {\"@type\": \"did:sov:BzCbsNYhMrjHiqZDTUASHg;spec/connections/1.0/invitation\", \"@id\": \"b960ab69-f1e2-4c51-ba54-ac2c14ec818b\", \"recipientKeys\": [\"3vkzw5qfyzvDgt5bVE6Keeiimz6VuktrXYhGgKeKdKGA\"], \"label\": \"Wip\", \"serviceEndpoint\": \"https://3a4b8a786a65.ngrok.io\"}"
   ]
  },
  {
   "cell_type": "code",
   "execution_count": null,
   "id": "46526ed7",
   "metadata": {},
   "outputs": [],
   "source": [
    "new_contact_id = messaging_service.accept_contact_invitation(invitation, \"Demo Participant\")"
   ]
  },
  {
   "cell_type": "markdown",
   "id": "0494160e",
   "metadata": {},
   "source": [
    "## Send Message"
   ]
  },
  {
   "cell_type": "code",
   "execution_count": null,
   "id": "3b2a7a57",
   "metadata": {},
   "outputs": [],
   "source": [
    "some_arbitrary_sized_message = \"Hello\"\n",
    "messaging_service.send_message(new_contact_id, some_arbitrary_sized_message)"
   ]
  },
  {
   "cell_type": "markdown",
   "id": "30ef6924",
   "metadata": {},
   "source": [
    "## Terminate Controller\n",
    "\n",
    "Whenever you have finished with this notebook, be sure to terminate the controller. This is especially important if your business logic runs across multiple notebooks."
   ]
  },
  {
   "cell_type": "code",
   "execution_count": null,
   "id": "61351f81",
   "metadata": {},
   "outputs": [],
   "source": [
    "await agent_controller.terminate()"
   ]
  }
 ],
 "metadata": {
  "kernelspec": {
   "display_name": "Python 3",
   "language": "python",
   "name": "python3"
  },
  "language_info": {
   "codemirror_mode": {
    "name": "ipython",
    "version": 3
   },
   "file_extension": ".py",
   "mimetype": "text/x-python",
   "name": "python",
   "nbconvert_exporter": "python",
   "pygments_lexer": "ipython3",
   "version": "3.7.6"
  }
 },
 "nbformat": 4,
 "nbformat_minor": 5
}
