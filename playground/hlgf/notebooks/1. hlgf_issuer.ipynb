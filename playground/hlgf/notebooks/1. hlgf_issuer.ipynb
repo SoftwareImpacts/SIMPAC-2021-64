{
 "cells": [
  {
   "cell_type": "markdown",
   "id": "3c6f82e4",
   "metadata": {},
   "source": [
    "# ACA-Py & ACC-Py Basic Template\n",
    "\n",
    "## Copy this template into the root folder of your notebook workspace to get started"
   ]
  },
  {
   "cell_type": "markdown",
   "id": "5b9bcec8",
   "metadata": {},
   "source": [
    "### Imports"
   ]
  },
  {
   "cell_type": "code",
   "execution_count": 1,
   "id": "d990da38",
   "metadata": {},
   "outputs": [],
   "source": [
    "from aries_cloudcontroller import AriesAgentController\n",
    "import os\n",
    "import asyncio\n",
    "import nest_asyncio\n",
    "from termcolor import colored\n",
    "\n",
    "nest_asyncio.apply()"
   ]
  },
  {
   "cell_type": "markdown",
   "id": "4f23b283",
   "metadata": {},
   "source": [
    "### Initialise the Agent Controller"
   ]
  },
  {
   "cell_type": "code",
   "execution_count": 2,
   "id": "7be4cca8",
   "metadata": {},
   "outputs": [
    {
     "name": "stdout",
     "output_type": "stream",
     "text": [
      "Initialising a controller with admin api at http://hlgf-agent:3021 and an api key of adminApiKey\n"
     ]
    }
   ],
   "source": [
    "api_key = os.getenv(\"ACAPY_ADMIN_API_KEY\")\n",
    "admin_url = os.getenv(\"ADMIN_URL\")\n",
    "\n",
    "print(f\"Initialising a controller with admin api at {admin_url} and an api key of {api_key}\")\n",
    "agent_controller = AriesAgentController(admin_url,api_key)"
   ]
  },
  {
   "cell_type": "markdown",
   "id": "34070bc5",
   "metadata": {},
   "source": [
    "### Start a Webhook Server"
   ]
  },
  {
   "cell_type": "code",
   "execution_count": 3,
   "id": "36ba2648",
   "metadata": {},
   "outputs": [
    {
     "name": "stdout",
     "output_type": "stream",
     "text": [
      "Listening for webhooks from agent at http://0.0.0.0:3010\n"
     ]
    }
   ],
   "source": [
    "webhook_port = int(os.getenv(\"WEBHOOK_PORT\"))\n",
    "webhook_host = \"0.0.0.0\"\n",
    "\n",
    "await agent_controller.init_webhook_server(webhook_host, webhook_port)\n",
    "\n",
    "print(f\"Listening for webhooks from agent at http://{webhook_host}:{webhook_port}\")"
   ]
  },
  {
   "cell_type": "markdown",
   "id": "f1093efd",
   "metadata": {},
   "source": [
    "## Store Issuing Schema and Cred Def Identifiers\n",
    "\n",
    "If you intend for this agent to issue credentials you should first initialise your agent as an issuer and author the relevant identifiers to the public ledger. The issuer_initialisation recipe notebook can be duplicated and used as a starting point.\n",
    "\n",
    "Once schema and cred def identifiers are created copy across and store in variables as illustrated in the cell below. Be sure to use unique names for each variable."
   ]
  },
  {
   "cell_type": "code",
   "execution_count": 4,
   "id": "8c4a3056",
   "metadata": {},
   "outputs": [],
   "source": [
    "schema_id='W4t2Pa4XR1qBDvwhVcn4CY:2:Aries ACA ACC Jupyter Playground Demo Participation:0.0.1'\n",
    "cred_def_id='32WXnYANVbibAjvhpc6nvA:3:CL:216849:default'\n",
    "\n",
    "\n",
    "\n",
    "# %store schema_id\n",
    "# %store <cred_def_id>"
   ]
  },
  {
   "cell_type": "markdown",
   "id": "22cea74f",
   "metadata": {},
   "source": [
    "## Create Multi-Use Invite\n",
    "\n",
    "Before you can issue a credential you must first establish a connection across which the credential will be issued to a holder. (see recipes/connection)"
   ]
  },
  {
   "cell_type": "code",
   "execution_count": 5,
   "id": "64e91c08",
   "metadata": {},
   "outputs": [
    {
     "name": "stdout",
     "output_type": "stream",
     "text": [
      "5xP9PVD7a5AnBtY6MMXvuVo6ydkdmk5V2VyzYDT5AgWD\n"
     ]
    }
   ],
   "source": [
    "# Alias for invited connection\n",
    "alias = \"Participant\"\n",
    "auto_accept = \"true\"\n",
    "# Use public DID?\n",
    "public = \"false\"\n",
    "# Should this invitation be usable by multiple invitees?\n",
    "multi_use = \"true\"\n",
    "\n",
    "multi_use_invite_response = await agent_controller.connections.create_invitation(alias, auto_accept, public, multi_use)\n",
    "# Is equivalent to above. Arguments are optionally\n",
    "# invitation_response = await agent_controller.connections.create_invitation()\n",
    "\n",
    "\n",
    "multi_use_invititation_key = multi_use_invite_response[\"invitation\"][\"recipientKeys\"][0]\n",
    "\n",
    "print(multi_use_invititation_key)"
   ]
  },
  {
   "cell_type": "markdown",
   "id": "6fab5694",
   "metadata": {},
   "source": [
    "## Register Agent Event Listeners\n",
    "\n",
    "You can see some examples within the webhook_listeners recipe. Copy any relevant cells across and fill in additional logic as needed."
   ]
  },
  {
   "cell_type": "code",
   "execution_count": 6,
   "id": "131e844c",
   "metadata": {},
   "outputs": [],
   "source": [
    "listeners = []"
   ]
  },
  {
   "cell_type": "code",
   "execution_count": 7,
   "id": "782cf16f",
   "metadata": {},
   "outputs": [],
   "source": [
    "import time\n",
    "\n",
    "## YOUR LISTENERS HERE\n",
    "# Receive connection messages\n",
    "def connections_handler(payload):\n",
    "    state = payload['state']\n",
    "    connection_id = payload[\"connection_id\"]\n",
    "    their_role = payload[\"their_role\"]\n",
    "    routing_state = payload[\"routing_state\"]\n",
    "    \n",
    "    print(\"----------------------------------------------------------\")\n",
    "    print(\"Connection Webhook Event Received\")\n",
    "    print(\"Connection ID : \", connection_id)\n",
    "    print(\"State : \", state)\n",
    "    print(\"Routing State : \", routing_state)\n",
    "    print(\"Their Role : \", their_role)\n",
    "    print(\"----------------------------------------------------------\")\n",
    "    \n",
    "    print(payload)\n",
    "    loop = asyncio.get_event_loop()\n",
    "\n",
    "    if state == \"response\":\n",
    "        time.sleep(2)\n",
    "        loop.run_until_complete(agent_controller.messaging.trust_ping(connection_id))\n",
    "        \n",
    "    if state == \"active\":\n",
    "        # Your business logic\n",
    "        invitation_key = payload[\"invitation_key\"]\n",
    "        their_lablel = payload[\"their_label\"]\n",
    "        print(invitation_key)\n",
    "        if invitation_key == multi_use_invititation_key:\n",
    "            event_name = \"Hyperledger Global Forum 2021\"\n",
    "            issue_date= date.today().isoformat()\n",
    "            credential_attributes = [\n",
    "                {\"name\": \"Event Name\", \"value\": event_name},\n",
    "                {\"name\": \"Participant\", \"value\": their_lablel},\n",
    "                {\"name\": \"Description\", \"value\": \"Thank you for attending the Aries Jupyter Playground demo at HGF 2021\"},\n",
    "                {\"name\": \"Date\", \"value\": issue_date}\n",
    "            ]\n",
    "            \n",
    "            # Do you want the ACA-Py instance to trace it's processes (for testing/timing analysis)\n",
    "            trace = False\n",
    "            comment = \"\"\n",
    "            # Remove credential record after issued?\n",
    "            auto_remove = True\n",
    "\n",
    "            # Change <schema_id> and <cred_def_id> to correct pair. Cred_def_id must identify a definition to which your agent has corresponding private issuing key.\n",
    "            loop.run_until_complete(agent_controller.issuer.send_credential(connection_id, schema_id, cred_def_id, credential_attributes, comment, auto_remove, trace))\n",
    "        print(colored(\"Connection ID: {0} is now active.\".format(connection_id), \"green\", attrs=[\"bold\"]))\n",
    "\n",
    "connection_listener = {\n",
    "    \"handler\": connections_handler,\n",
    "    \"topic\": \"connections\"\n",
    "}\n",
    "\n",
    "listeners.append(connection_listener)"
   ]
  },
  {
   "cell_type": "code",
   "execution_count": 8,
   "id": "43ee719e",
   "metadata": {},
   "outputs": [],
   "source": [
    "from datetime import date\n",
    "\n",
    "def issuer_handler(payload):\n",
    "    connection_id = payload['connection_id']\n",
    "    exchange_id = payload['credential_exchange_id']\n",
    "    state = payload['state']\n",
    "    role = payload['role']\n",
    "    print(\"\\n---------------------------------------------------\\n\")\n",
    "    print(\"Handle Issue Credential Webhook\")\n",
    "    print(f\"Connection ID : {connection_id}\")\n",
    "    print(f\"Credential exchange ID : {exchange_id}\")\n",
    "    print(\"Agent Protocol Role : \", role)\n",
    "    print(\"Protocol State : \", state )\n",
    "    print(\"\\n---------------------------------------------------\\n\")\n",
    "    loop = asyncio.get_event_loop()\n",
    "    if state == \"proposal_received\":\n",
    "        print(f'Proposal Comment : {payload[\"credential_proposal_dict\"][\"comment\"]}')\n",
    "        proposed_cred_def_id = payload[\"credential_proposal_dict\"][\"cred_def_id\"]\n",
    "        proposed_schema_id = payload[\"credential_proposal_dict\"][\"schema_id\"]\n",
    "        \n",
    "        if proposed_cred_def_id == cred_def_id and proposed_schema_id == schema_id:\n",
    "            for attribute in payload[\"credential_proposal_dict\"][\"credential_proposal\"][\"attributes\"]:\n",
    "                if attribute[\"name\"] == \"Participant\":\n",
    "                    participant = attribute[\"value\"]\n",
    "                elif attribute[\"name\"] == \"Description\":\n",
    "                    description = attribute[\"value\"]\n",
    "                    description += \"\\n Thanks for attending!\"\n",
    "\n",
    "\n",
    "            event_name = \"Hyperledger Global Forum 2021\"\n",
    "            issue_date= date.today().isoformat()\n",
    "            credential_attributes = [\n",
    "                {\"name\": \"Event Name\", \"value\": event_name},\n",
    "                {\"name\": \"Participant\", \"value\": participant},\n",
    "                {\"name\": \"Description\", \"value\": description},\n",
    "                {\"name\": \"Date\", \"value\": issue_date}\n",
    "            ]\n",
    "\n",
    "            print(credential_attributes)\n",
    "\n",
    "            # Do you want the ACA-Py instance to trace it's processes (for testing/timing analysis)\n",
    "            trace = False\n",
    "            comment = \"\"\n",
    "            # Remove credential record after issued?\n",
    "            auto_remove = True\n",
    "\n",
    "            # Change <schema_id> and <cred_def_id> to correct pair. Cred_def_id must identify a definition to which your agent has corresponding private issuing key.\n",
    "            loop.run_until_complete(agent_controller.issuer.send_credential(connection_id, schema_id, cred_def_id, credential_attributes, comment, auto_remove, trace))\n",
    "        else:\n",
    "            explaination = \"You have not referenced the correct schema and credential definitions\"\n",
    "            loop.run_until_complete(agent_controller.issuer.send_problem_report(exchange_id, explaination))\n",
    "        \n",
    "    \n",
    "    elif state == \"offer_sent\":\n",
    "        proposal = payload[\"credential_proposal_dict\"]\n",
    "        attributes = proposal['credential_proposal']['attributes']\n",
    "\n",
    "        print(f\"Offering credential with attributes  : {attributes}\")\n",
    "        ## YOUR LOGIC HERE\n",
    "    elif state == \"request_received\":\n",
    "        print(\"Request for credential received\")\n",
    "        ## YOUR LOGIC HERE\n",
    "    elif state == \"credential_sent\":\n",
    "        print(\"Credential Sent\")\n",
    "        ## YOUR LOGIC HERE\n",
    "    \n",
    "issuer_listener = {\n",
    "    \"topic\": \"issue_credential\",\n",
    "    \"handler\": issuer_handler\n",
    "}\n",
    "\n",
    "listeners.append(issuer_listener)"
   ]
  },
  {
   "cell_type": "code",
   "execution_count": 9,
   "id": "96f272ce",
   "metadata": {},
   "outputs": [],
   "source": [
    "agent_controller.register_listeners(listeners)"
   ]
  },
  {
   "cell_type": "markdown",
   "id": "1df0edf0",
   "metadata": {},
   "source": [
    "## Share Invitation Object with External Agent"
   ]
  },
  {
   "cell_type": "code",
   "execution_count": 10,
   "id": "973f9702",
   "metadata": {},
   "outputs": [
    {
     "name": "stdout",
     "output_type": "stream",
     "text": [
      "{'@type': 'did:sov:BzCbsNYhMrjHiqZDTUASHg;spec/connections/1.0/invitation', '@id': 'a4646564-f32f-4726-8661-4ea618900fdf', 'label': 'Hyperledger Global Forum', 'serviceEndpoint': 'https://4398a9c5b059.ngrok.io', 'recipientKeys': ['5xP9PVD7a5AnBtY6MMXvuVo6ydkdmk5V2VyzYDT5AgWD']}\n"
     ]
    }
   ],
   "source": [
    "invitation = invitation_response[\"invitation\"]\n",
    "## Copy this output\n",
    "print(invitation)"
   ]
  },
  {
   "cell_type": "markdown",
   "id": "f4b489e8",
   "metadata": {},
   "source": [
    "## Display Invite as QR Code\n",
    "\n",
    "This is useful if you wish to issue a credential to a mobile wallet."
   ]
  },
  {
   "cell_type": "code",
   "execution_count": 11,
   "id": "e4cbfeef",
   "metadata": {},
   "outputs": [
    {
     "data": {
      "image/png": "[encoded data removed]",
      "text/plain": [
       "<qrcode.image.pil.PilImage at 0x7f0b8820cd10>"
      ]
     },
     "execution_count": 11,
     "metadata": {},
     "output_type": "execute_result"
    },
    {
     "name": "stdout",
     "output_type": "stream",
     "text": [
      "----------------------------------------------------------\n",
      "Connection Webhook Event Received\n",
      "Connection ID :  9215c7df-5ffb-43c4-a88b-5c157b051ccb\n",
      "State :  invitation\n",
      "Routing State :  none\n",
      "Their Role :  invitee\n",
      "----------------------------------------------------------\n",
      "{'their_role': 'invitee', 'connection_id': '9215c7df-5ffb-43c4-a88b-5c157b051ccb', 'rfc23_state': 'invitation-sent', 'updated_at': '2021-06-02 15:50:24.406611Z', 'invitation_key': '5xP9PVD7a5AnBtY6MMXvuVo6ydkdmk5V2VyzYDT5AgWD', 'accept': 'auto', 'routing_state': 'none', 'my_did': 'WbF15sFa1hBbpWjxi9v3vc', 'state': 'invitation', 'invitation_mode': 'once', 'created_at': '2021-06-02 15:50:24.406611Z'}\n",
      "----------------------------------------------------------\n",
      "Connection Webhook Event Received\n",
      "Connection ID :  9215c7df-5ffb-43c4-a88b-5c157b051ccb\n",
      "State :  request\n",
      "Routing State :  none\n",
      "Their Role :  invitee\n",
      "----------------------------------------------------------\n",
      "{'their_role': 'invitee', 'connection_id': '9215c7df-5ffb-43c4-a88b-5c157b051ccb', 'rfc23_state': 'request-received', 'updated_at': '2021-06-02 15:50:24.445211Z', 'invitation_key': '5xP9PVD7a5AnBtY6MMXvuVo6ydkdmk5V2VyzYDT5AgWD', 'accept': 'auto', 'routing_state': 'none', 'my_did': 'WbF15sFa1hBbpWjxi9v3vc', 'state': 'request', 'invitation_mode': 'once', 'created_at': '2021-06-02 15:50:24.406611Z', 'their_label': 'esatus Wallet', 'their_did': 'VcuxK44Lvz2SKMQS2BN4q3'}\n",
      "----------------------------------------------------------\n",
      "Connection Webhook Event Received\n",
      "Connection ID :  9215c7df-5ffb-43c4-a88b-5c157b051ccb\n",
      "State :  response\n",
      "Routing State :  none\n",
      "Their Role :  invitee\n",
      "----------------------------------------------------------\n",
      "{'their_role': 'invitee', 'connection_id': '9215c7df-5ffb-43c4-a88b-5c157b051ccb', 'rfc23_state': 'response-sent', 'updated_at': '2021-06-02 15:50:24.470636Z', 'invitation_key': '5xP9PVD7a5AnBtY6MMXvuVo6ydkdmk5V2VyzYDT5AgWD', 'accept': 'auto', 'routing_state': 'none', 'my_did': 'WbF15sFa1hBbpWjxi9v3vc', 'state': 'response', 'invitation_mode': 'once', 'created_at': '2021-06-02 15:50:24.406611Z', 'their_label': 'esatus Wallet', 'their_did': 'VcuxK44Lvz2SKMQS2BN4q3'}\n",
      "----------------------------------------------------------\n",
      "Connection Webhook Event Received\n",
      "Connection ID :  9215c7df-5ffb-43c4-a88b-5c157b051ccb\n",
      "State :  active\n",
      "Routing State :  none\n",
      "Their Role :  invitee\n",
      "----------------------------------------------------------\n",
      "{'their_role': 'invitee', 'connection_id': '9215c7df-5ffb-43c4-a88b-5c157b051ccb', 'rfc23_state': 'completed', 'updated_at': '2021-06-02 15:50:28.634398Z', 'invitation_key': '5xP9PVD7a5AnBtY6MMXvuVo6ydkdmk5V2VyzYDT5AgWD', 'accept': 'auto', 'routing_state': 'none', 'my_did': 'WbF15sFa1hBbpWjxi9v3vc', 'state': 'active', 'invitation_mode': 'once', 'created_at': '2021-06-02 15:50:24.406611Z', 'their_label': 'esatus Wallet', 'their_did': 'VcuxK44Lvz2SKMQS2BN4q3'}\n",
      "5xP9PVD7a5AnBtY6MMXvuVo6ydkdmk5V2VyzYDT5AgWD\n",
      "\n",
      "---------------------------------------------------\n",
      "\n",
      "Handle Issue Credential Webhook\n",
      "Connection ID : 9215c7df-5ffb-43c4-a88b-5c157b051ccb\n",
      "Credential exchange ID : 7550b31c-d4b4-4113-9e1b-efa90e81eedf\n",
      "Agent Protocol Role :  issuer\n",
      "Protocol State :  offer_sent\n",
      "\n",
      "---------------------------------------------------\n",
      "\n",
      "Offering credential with attributes  : [{'name': 'Event Name', 'value': 'Hyperledger Global Forum 2021'}, {'name': 'Participant', 'value': 'esatus Wallet'}, {'name': 'Description', 'value': 'Thank you for attending the Aries Jupyter Playground demo at HGF 2021'}, {'name': 'Date', 'value': '2021-06-02'}]\n",
      "\u001b[1m\u001b[32mConnection ID: 9215c7df-5ffb-43c4-a88b-5c157b051ccb is now active.\u001b[0m\n",
      "\n",
      "---------------------------------------------------\n",
      "\n",
      "Handle Issue Credential Webhook\n",
      "Connection ID : 9215c7df-5ffb-43c4-a88b-5c157b051ccb\n",
      "Credential exchange ID : 7550b31c-d4b4-4113-9e1b-efa90e81eedf\n",
      "Agent Protocol Role :  issuer\n",
      "Protocol State :  request_received\n",
      "\n",
      "---------------------------------------------------\n",
      "\n",
      "Request for credential received\n",
      "\n",
      "---------------------------------------------------\n",
      "\n",
      "Handle Issue Credential Webhook\n",
      "Connection ID : 9215c7df-5ffb-43c4-a88b-5c157b051ccb\n",
      "Credential exchange ID : 7550b31c-d4b4-4113-9e1b-efa90e81eedf\n",
      "Agent Protocol Role :  issuer\n",
      "Protocol State :  credential_issued\n",
      "\n",
      "---------------------------------------------------\n",
      "\n"
     ]
    }
   ],
   "source": [
    "import qrcode\n",
    "# Link for connection invitation\n",
    "invitation_url = multi_use_invite_response[\"invitation_url\"]\n",
    "# Creating an instance of qrcode\n",
    "qr = qrcode.QRCode(\n",
    "        version=1,\n",
    "        box_size=5,\n",
    "        border=5)\n",
    "qr.add_data(invitation_url)\n",
    "qr.make(fit=True)\n",
    "img = qr.make_image(fill='black', back_color='white')\n",
    "img"
   ]
  },
  {
   "cell_type": "markdown",
   "id": "308043ee",
   "metadata": {},
   "source": [
    "## Terminate Controller\n",
    "\n",
    "Whenever you have finished with this notebook, be sure to terminate the controller. This is especially important if your business logic runs across multiple notebooks."
   ]
  },
  {
   "cell_type": "code",
   "execution_count": null,
   "id": "f531c694",
   "metadata": {},
   "outputs": [],
   "source": [
    "await agent_controller.terminate()"
   ]
  },
  {
   "cell_type": "code",
   "execution_count": null,
   "id": "2e1ca459",
   "metadata": {},
   "outputs": [],
   "source": []
  }
 ],
 "metadata": {
  "kernelspec": {
   "display_name": "Python 3",
   "language": "python",
   "name": "python3"
  },
  "language_info": {
   "codemirror_mode": {
    "name": "ipython",
    "version": 3
   },
   "file_extension": ".py",
   "mimetype": "text/x-python",
   "name": "python",
   "nbconvert_exporter": "python",
   "pygments_lexer": "ipython3",
   "version": "3.7.6"
  }
 },
 "nbformat": 4,
 "nbformat_minor": 5
}
