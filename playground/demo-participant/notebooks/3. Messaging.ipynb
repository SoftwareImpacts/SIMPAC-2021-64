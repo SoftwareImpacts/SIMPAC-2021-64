{
 "cells": [
  {
   "cell_type": "markdown",
   "id": "54dd0959",
   "metadata": {},
   "source": [
    "# Messaging\n"
   ]
  },
  {
   "cell_type": "markdown",
   "id": "5632af98",
   "metadata": {},
   "source": [
    "### Imports"
   ]
  },
  {
   "cell_type": "code",
   "execution_count": 1,
   "id": "ec49e5f6",
   "metadata": {},
   "outputs": [],
   "source": [
    "from aries_cloudcontroller import AriesAgentController\n",
    "import os\n",
    "from termcolor import colored\n",
    "import asyncio\n",
    "\n",
    "\n",
    "from libs.messaging_service import MessagingService"
   ]
  },
  {
   "cell_type": "markdown",
   "id": "814d8d31",
   "metadata": {},
   "source": [
    "### Initialise the Agent Controller"
   ]
  },
  {
   "cell_type": "code",
   "execution_count": 2,
   "id": "17e6a42d",
   "metadata": {},
   "outputs": [
    {
     "name": "stdout",
     "output_type": "stream",
     "text": [
      "Initialising a controller with admin api at http://demo-participant-agent:3021 and an api key of adminApiKey\n"
     ]
    }
   ],
   "source": [
    "api_key = os.getenv(\"ACAPY_ADMIN_API_KEY\")\n",
    "admin_url = os.getenv(\"ADMIN_URL\")\n",
    "\n",
    "print(f\"Initialising a controller with admin api at {admin_url} and an api key of {api_key}\")\n",
    "agent_controller = AriesAgentController(admin_url,api_key)"
   ]
  },
  {
   "cell_type": "markdown",
   "id": "d20118cd",
   "metadata": {},
   "source": [
    "### Start a Webhook Server"
   ]
  },
  {
   "cell_type": "code",
   "execution_count": 3,
   "id": "220c0082",
   "metadata": {},
   "outputs": [
    {
     "name": "stdout",
     "output_type": "stream",
     "text": [
      "Listening for webhooks from agent at http://0.0.0.0:3010\n"
     ]
    }
   ],
   "source": [
    "webhook_port = int(os.getenv(\"WEBHOOK_PORT\"))\n",
    "webhook_host = \"0.0.0.0\"\n",
    "\n",
    "await agent_controller.init_webhook_server(webhook_host, webhook_port)\n",
    "\n",
    "print(f\"Listening for webhooks from agent at http://{webhook_host}:{webhook_port}\")"
   ]
  },
  {
   "cell_type": "markdown",
   "id": "d1b27b6a",
   "metadata": {},
   "source": [
    "## Instatiate Messaging Service"
   ]
  },
  {
   "cell_type": "code",
   "execution_count": 4,
   "id": "06d02657",
   "metadata": {},
   "outputs": [],
   "source": [
    "messaging_service = MessagingService(agent_controller)"
   ]
  },
  {
   "cell_type": "markdown",
   "id": "781e49c1",
   "metadata": {},
   "source": [
    "## Optional - Configure a Default Mediator\n",
    "\n",
    "We have hosted an ACA agent in open mediation mode. Accept this connection and request mediation from it and it should grant your request. If you set this as your default mediation all future invites will have serviceEndpoints pointing to this agent which will then forward messages on to your endpoint."
   ]
  },
  {
   "cell_type": "code",
   "execution_count": null,
   "id": "08df6efd",
   "metadata": {},
   "outputs": [],
   "source": [
    "mediator_invite = {'@type': 'did:sov:BzCbsNYhMrjHiqZDTUASHg;spec/connections/1.0/invitation', '@id': 'bb47c3ea-ab9a-4ef4-984d-409cb4909956', 'recipientKeys': ['HkwRkbCGEXn4LviXNen5f8kqQ1WxVRpQQGxaQG7PuSZD'], 'serviceEndpoint': 'http://139.162.224.50:6666', 'label': 'HGF_ACA_Playground_Mediator'}"
   ]
  },
  {
   "cell_type": "code",
   "execution_count": null,
   "id": "cb1c275e",
   "metadata": {},
   "outputs": [],
   "source": [
    "invitation_response = await agent_controller.connections.receive_invitation(mediator_invite)"
   ]
  },
  {
   "cell_type": "code",
   "execution_count": null,
   "id": "21625bcf",
   "metadata": {},
   "outputs": [],
   "source": [
    "connection_id = invitation_response[\"connection_id\"]\n",
    "### check state of connection\n",
    "connection = await agent_controller.connections.get_connection(connection_id)\n",
    "\n",
    "# Let's check for the state\n",
    "if connection['state'] != 'active':\n",
    "    print(\"No active connection. \\n Please go back and ensure you have established an active connection\")    \n",
    "else:\n",
    "    ## request mediation\n",
    "    mediation_req = await agent_controller.mediation.request_mediation(connection_id)\n",
    "    "
   ]
  },
  {
   "cell_type": "code",
   "execution_count": null,
   "id": "226909a2",
   "metadata": {},
   "outputs": [],
   "source": [
    "### To have a look at the mediation records and we should see our mediation in there\n",
    "records_response = await agent_controller.mediation.get_mediation_record_by_id(mediation_req[\"mediation_id\"])\n",
    "print(f\"State : {records_response['state']}\")"
   ]
  },
  {
   "cell_type": "code",
   "execution_count": null,
   "id": "22ac440e",
   "metadata": {},
   "outputs": [],
   "source": [
    "default_mediation_res = await agent_controller.mediation.set_default_mediator(records_response['mediation_id'])\n",
    "print(default_mediation_res)"
   ]
  },
  {
   "cell_type": "markdown",
   "id": "daeb8376",
   "metadata": {},
   "source": [
    "## Add Contact"
   ]
  },
  {
   "cell_type": "markdown",
   "id": "a163e3be",
   "metadata": {},
   "source": [
    "### Either from Invitation Shared"
   ]
  },
  {
   "cell_type": "code",
   "execution_count": 5,
   "id": "1bf3cb07",
   "metadata": {},
   "outputs": [],
   "source": [
    "invitation = {\"@type\": \"did:sov:BzCbsNYhMrjHiqZDTUASHg;spec/connections/1.0/invitation\", \"@id\": \"fc3003f1-70b8-4033-a052-d901abde65fe\", \"serviceEndpoint\": \"http://:178.79.148.222:3020\", \"recipientKeys\": [\"4foB6m5bFSRM7WEqssYQQz74aXkQANjmWSRcbjn1n6PK\"], \"label\": \"Ansible Wip\"}"
   ]
  },
  {
   "cell_type": "code",
   "execution_count": 6,
   "id": "6c511ee9",
   "metadata": {},
   "outputs": [
    {
     "name": "stdout",
     "output_type": "stream",
     "text": [
      "Contact with ID c5383568-c0a9-4159-bfb5-2d21cd7c1efd and alias HLGF added\n"
     ]
    }
   ],
   "source": [
    "new_contact_id = messaging_service.accept_contact_invitation(invitation, \"HLGF\")"
   ]
  },
  {
   "cell_type": "markdown",
   "id": "6eeb5a30",
   "metadata": {},
   "source": [
    "### Or by Creating and Sharing an Invite"
   ]
  },
  {
   "cell_type": "code",
   "execution_count": null,
   "id": "77682272",
   "metadata": {},
   "outputs": [],
   "source": [
    "alias = \"HLGF\"\n",
    "response = messaging_service.new_contact_invite(alias)\n",
    "\n",
    "# If you want to display as Q.R for example\n",
    "invitation = response[\"invitation\"]\n",
    "\n",
    "new_contact_id = response[\"connection_id\"]"
   ]
  },
  {
   "cell_type": "markdown",
   "id": "9d40d0b6",
   "metadata": {},
   "source": [
    "## Send Message to Contact by Connection ID"
   ]
  },
  {
   "cell_type": "code",
   "execution_count": null,
   "id": "f9841325",
   "metadata": {},
   "outputs": [],
   "source": [
    "some_arbitrary_sized_message = \"Hey how are you, want to grab a coffee?\"\n",
    "messaging_service.send_message(new_contact_id, some_arbitrary_sized_message)"
   ]
  },
  {
   "cell_type": "markdown",
   "id": "895bd4a1",
   "metadata": {},
   "source": [
    "## Display Inbox for Contact"
   ]
  },
  {
   "cell_type": "code",
   "execution_count": null,
   "id": "90a79d66",
   "metadata": {},
   "outputs": [],
   "source": [
    "messaging_service.display_inbox_for_contact(new_contact_id)"
   ]
  },
  {
   "cell_type": "markdown",
   "id": "39b2695c",
   "metadata": {},
   "source": [
    "## Get Contacts"
   ]
  },
  {
   "cell_type": "code",
   "execution_count": null,
   "id": "7cf5e096",
   "metadata": {},
   "outputs": [],
   "source": [
    "messaging_service.view_inbox(show_inactive=True)"
   ]
  },
  {
   "cell_type": "code",
   "execution_count": null,
   "id": "a0889659",
   "metadata": {},
   "outputs": [],
   "source": [
    "response = messaging_service.get_contacts()\n",
    "for contact in response:\n",
    "    print(f\"{contact.alias} : {contact.connection_id}\")\n",
    "    print(contact.is_active.done())\n",
    "    print(contact.__dict__)"
   ]
  },
  {
   "cell_type": "markdown",
   "id": "c6bf00df",
   "metadata": {},
   "source": [
    "## Terminate Controller\n",
    "\n",
    "Whenever you have finished with this notebook, be sure to terminate the controller. This is especially important if your business logic runs across multiple notebooks."
   ]
  },
  {
   "cell_type": "code",
   "execution_count": null,
   "id": "5fe921b2",
   "metadata": {},
   "outputs": [],
   "source": [
    "await agent_controller.terminate()"
   ]
  },
  {
   "cell_type": "code",
   "execution_count": null,
   "id": "c49350b8",
   "metadata": {},
   "outputs": [],
   "source": []
  }
 ],
 "metadata": {
  "kernelspec": {
   "display_name": "Python 3",
   "language": "python",
   "name": "python3"
  },
  "language_info": {
   "codemirror_mode": {
    "name": "ipython",
    "version": 3
   },
   "file_extension": ".py",
   "mimetype": "text/x-python",
   "name": "python",
   "nbconvert_exporter": "python",
   "pygments_lexer": "ipython3",
   "version": "3.7.6"
  }
 },
 "nbformat": 4,
 "nbformat_minor": 5
}
