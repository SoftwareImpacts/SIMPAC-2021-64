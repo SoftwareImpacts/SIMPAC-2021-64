{
 "cells": [
  {
   "cell_type": "markdown",
   "id": "82afa4d9",
   "metadata": {},
   "source": [
    "# ACA-Py & ACC-Py Basic Template\n",
    "\n",
    "## Copy this template into the root folder of your notebook workspace to get started"
   ]
  },
  {
   "cell_type": "markdown",
   "id": "26665ba1",
   "metadata": {},
   "source": [
    "### Imports"
   ]
  },
  {
   "cell_type": "code",
   "execution_count": 1,
   "id": "67307840",
   "metadata": {},
   "outputs": [],
   "source": [
    "from aries_cloudcontroller import AriesAgentController\n",
    "import os\n",
    "import asyncio\n",
    "import nest_asyncio\n",
    "from termcolor import colored\n",
    "\n",
    "nest_asyncio.apply()"
   ]
  },
  {
   "cell_type": "markdown",
   "id": "933cc973",
   "metadata": {},
   "source": [
    "### Initialise the Agent Controller"
   ]
  },
  {
   "cell_type": "code",
   "execution_count": 2,
   "id": "27d950e4",
   "metadata": {},
   "outputs": [
    {
     "name": "stdout",
     "output_type": "stream",
     "text": [
      "Initialising a controller with admin api at http://hlgf-agent:3021 and an api key of adminApiKey\n"
     ]
    }
   ],
   "source": [
    "api_key = os.getenv(\"ACAPY_ADMIN_API_KEY\")\n",
    "admin_url = os.getenv(\"ADMIN_URL\")\n",
    "\n",
    "print(f\"Initialising a controller with admin api at {admin_url} and an api key of {api_key}\")\n",
    "agent_controller = AriesAgentController(admin_url,api_key)"
   ]
  },
  {
   "cell_type": "markdown",
   "id": "1f5d22c2",
   "metadata": {},
   "source": [
    "### Start a Webhook Server"
   ]
  },
  {
   "cell_type": "code",
   "execution_count": 3,
   "id": "372552c6",
   "metadata": {},
   "outputs": [
    {
     "name": "stdout",
     "output_type": "stream",
     "text": [
      "Listening for webhooks from agent at http://0.0.0.0:3010\n"
     ]
    }
   ],
   "source": [
    "webhook_port = int(os.getenv(\"WEBHOOK_PORT\"))\n",
    "webhook_host = \"0.0.0.0\"\n",
    "\n",
    "await agent_controller.init_webhook_server(webhook_host, webhook_port)\n",
    "\n",
    "print(f\"Listening for webhooks from agent at http://{webhook_host}:{webhook_port}\")"
   ]
  },
  {
   "cell_type": "markdown",
   "id": "4395ab68",
   "metadata": {},
   "source": [
    "## Store Issuing Schema and Cred Def Identifiers\n",
    "\n",
    "If you intend for this agent to issue credentials you should first initialise your agent as an issuer and author the relevant identifiers to the public ledger. The issuer_initialisation recipe notebook can be duplicated and used as a starting point.\n",
    "\n",
    "Once schema and cred def identifiers are created copy across and store in variables as illustrated in the cell below. Be sure to use unique names for each variable."
   ]
  },
  {
   "cell_type": "code",
   "execution_count": 4,
   "id": "0096155f",
   "metadata": {},
   "outputs": [],
   "source": [
    "schema_id='W4t2Pa4XR1qBDvwhVcn4CY:2:Aries ACA ACC Jupyter Playground Demo Participation:0.0.1'\n",
    "cred_def_id='W4t2Pa4XR1qBDvwhVcn4CY:3:CL:216849:default'\n",
    "\n",
    "\n",
    "# %store schema_id\n",
    "# %store <cred_def_id>"
   ]
  },
  {
   "cell_type": "markdown",
   "id": "b238613b",
   "metadata": {},
   "source": [
    "## Register Agent Event Listeners\n",
    "\n",
    "You can see some examples within the webhook_listeners recipe. Copy any relevant cells across and fill in additional logic as needed."
   ]
  },
  {
   "cell_type": "code",
   "execution_count": 5,
   "id": "afaffe33",
   "metadata": {},
   "outputs": [],
   "source": [
    "listeners = []"
   ]
  },
  {
   "cell_type": "code",
   "execution_count": 6,
   "id": "33197474",
   "metadata": {},
   "outputs": [],
   "source": [
    "## YOUR LISTENERS HERE\n",
    "# Receive connection messages\n",
    "def connections_handler(payload):\n",
    "    state = payload['state']\n",
    "    connection_id = payload[\"connection_id\"]\n",
    "    their_role = payload[\"their_role\"]\n",
    "    routing_state = payload[\"routing_state\"]\n",
    "    \n",
    "    print(\"----------------------------------------------------------\")\n",
    "    print(\"Connection Webhook Event Received\")\n",
    "    print(\"Connection ID : \", connection_id)\n",
    "    print(\"State : \", state)\n",
    "    print(\"Routing State : \", routing_state)\n",
    "    print(\"Their Role : \", their_role)\n",
    "    print(\"----------------------------------------------------------\")\n",
    "    \n",
    "    print(payload)\n",
    "        \n",
    "    if state == \"active\":\n",
    "        # Your business logic\n",
    "        print(colored(\"Connection ID: {0} is now active.\".format(connection_id), \"green\", attrs=[\"bold\"]))\n",
    "\n",
    "connection_listener = {\n",
    "    \"handler\": connections_handler,\n",
    "    \"topic\": \"connections\"\n",
    "}\n",
    "\n",
    "listeners.append(connection_listener)"
   ]
  },
  {
   "cell_type": "code",
   "execution_count": 7,
   "id": "0b1e4b6e",
   "metadata": {},
   "outputs": [],
   "source": [
    "resp = await agent_controller.issuer.get_records()"
   ]
  },
  {
   "cell_type": "code",
   "execution_count": 8,
   "id": "00992db5",
   "metadata": {},
   "outputs": [
    {
     "name": "stdout",
     "output_type": "stream",
     "text": [
      "{'@type': 'did:sov:BzCbsNYhMrjHiqZDTUASHg;spec/issue-credential/1.0/credential-preview', 'attributes': [{'name': 'Event Name', 'value': 'Hyperledger Global Forum 2021'}, {'name': 'Participant', 'value': 'Wip'}, {'name': 'Description', 'value': 'some description'}, {'name': 'Date', 'value': '2021-05-28'}]}\n"
     ]
    }
   ],
   "source": [
    "record = resp[\"results\"][1]\n",
    "print(record[\"credential_proposal_dict\"][\"credential_proposal\"])"
   ]
  },
  {
   "cell_type": "code",
   "execution_count": 9,
   "id": "af93e4f8",
   "metadata": {},
   "outputs": [],
   "source": [
    "from datetime import date\n",
    "\n",
    "def issuer_handler(payload):\n",
    "    connection_id = payload['connection_id']\n",
    "    exchange_id = payload['credential_exchange_id']\n",
    "    state = payload['state']\n",
    "    role = payload['role']\n",
    "    print(\"\\n---------------------------------------------------\\n\")\n",
    "    print(\"Handle Issue Credential Webhook\")\n",
    "    print(f\"Connection ID : {connection_id}\")\n",
    "    print(f\"Credential exchange ID : {exchange_id}\")\n",
    "    print(\"Agent Protocol Role : \", role)\n",
    "    print(\"Protocol State : \", state )\n",
    "    print(\"\\n---------------------------------------------------\\n\")\n",
    "    loop = asyncio.get_event_loop()\n",
    "    if state == \"proposal_received\":\n",
    "        print(f'Proposal Comment : {payload[\"credential_proposal_dict\"][\"comment\"]}')\n",
    "        proposed_cred_def_id = payload[\"credential_proposal_dict\"][\"cred_def_id\"]\n",
    "        proposed_schema_id = payload[\"credential_proposal_dict\"][\"schema_id\"]\n",
    "        \n",
    "        if proposed_cred_def_id == cred_def_id and proposed_schema_id == schema_id:\n",
    "            for attribute in payload[\"credential_proposal_dict\"][\"credential_proposal\"][\"attributes\"]:\n",
    "                if attribute[\"name\"] == \"Participant\":\n",
    "                    participant = attribute[\"value\"]\n",
    "                elif attribute[\"name\"] == \"Description\":\n",
    "                    description = attribute[\"value\"]\n",
    "                    description += \"\\n Thanks for attending!\"\n",
    "\n",
    "\n",
    "            event_name = \"Hyperledger Global Forum 2021\"\n",
    "            issue_date= date.today().isoformat()\n",
    "            credential_attributes = [\n",
    "                {\"name\": \"Event Name\", \"value\": event_name},\n",
    "                {\"name\": \"Participant\", \"value\": participant},\n",
    "                {\"name\": \"Description\", \"value\": description},\n",
    "                {\"name\": \"Date\", \"value\": issue_date}\n",
    "            ]\n",
    "\n",
    "            print(credential_attributes)\n",
    "\n",
    "            # Do you want the ACA-Py instance to trace it's processes (for testing/timing analysis)\n",
    "            trace = False\n",
    "            comment = \"\"\n",
    "            # Remove credential record after issued?\n",
    "            auto_remove = True\n",
    "\n",
    "            # Change <schema_id> and <cred_def_id> to correct pair. Cred_def_id must identify a definition to which your agent has corresponding private issuing key.\n",
    "            loop.run_until_complete(agent_controller.issuer.send_credential(connection_id, schema_id, cred_def_id, credential_attributes, comment, auto_remove, trace))\n",
    "        else:\n",
    "            explaination = \"You have not referenced the correct schema and credential definitions\"\n",
    "            loop.run_until_complete(agent_controller.issuer.send_problem_report(exchange_id, explaination))\n",
    "        \n",
    "    \n",
    "    elif state == \"offer_sent\":\n",
    "        proposal = payload[\"credential_proposal_dict\"]\n",
    "        attributes = proposal['credential_proposal']['attributes']\n",
    "\n",
    "        print(f\"Offering credential with attributes  : {attributes}\")\n",
    "        ## YOUR LOGIC HERE\n",
    "    elif state == \"request_received\":\n",
    "        print(\"Request for credential received\")\n",
    "        ## YOUR LOGIC HERE\n",
    "    elif state == \"credential_sent\":\n",
    "        print(\"Credential Sent\")\n",
    "        ## YOUR LOGIC HERE\n",
    "    \n",
    "issuer_listener = {\n",
    "    \"topic\": \"issue_credential\",\n",
    "    \"handler\": issuer_handler\n",
    "}\n",
    "\n",
    "listeners.append(issuer_listener)"
   ]
  },
  {
   "cell_type": "code",
   "execution_count": 10,
   "id": "55051970",
   "metadata": {},
   "outputs": [],
   "source": [
    "agent_controller.register_listeners(listeners)"
   ]
  },
  {
   "cell_type": "markdown",
   "id": "8ef92f6f",
   "metadata": {},
   "source": [
    "## Establish Connection\n",
    "\n",
    "Before you can issue a credential you must first establish a connection across which the credential will be issued to a holder. (see recipes/connection)"
   ]
  },
  {
   "cell_type": "code",
   "execution_count": 11,
   "id": "a9740cc2",
   "metadata": {},
   "outputs": [
    {
     "name": "stdout",
     "output_type": "stream",
     "text": [
      "----------------------------------------------------------\n",
      "Connection Webhook Event Received\n",
      "Connection ID :  e8412432-37eb-4009-bbfc-bd42b27453c3\n",
      "State :  invitation\n",
      "Routing State :  none\n",
      "Their Role :  invitee\n",
      "----------------------------------------------------------\n",
      "{'accept': 'auto', 'connection_id': 'e8412432-37eb-4009-bbfc-bd42b27453c3', 'routing_state': 'none', 'invitation_mode': 'multi', 'alias': 'Participant', 'updated_at': '2021-05-28 16:42:42.377551Z', 'created_at': '2021-05-28 16:42:42.377551Z', 'rfc23_state': 'invitation-sent', 'state': 'invitation', 'invitation_key': 'Bt68CgSJz9TcnW94ikfrtRWJRpXLjtWGDBCGPPqDkofq', 'their_role': 'invitee'}\n",
      "----------------------------------------------------------\n",
      "Connection Webhook Event Received\n",
      "Connection ID :  0483f35d-ba37-4ed3-bfc8-04a36db5182a\n",
      "State :  invitation\n",
      "Routing State :  none\n",
      "Their Role :  invitee\n",
      "----------------------------------------------------------\n",
      "{'accept': 'auto', 'connection_id': '0483f35d-ba37-4ed3-bfc8-04a36db5182a', 'routing_state': 'none', 'invitation_mode': 'once', 'updated_at': '2021-05-28 16:42:56.186728Z', 'created_at': '2021-05-28 16:42:56.186728Z', 'my_did': '3tw6GEzCjL1TzzEXMKGD2v', 'rfc23_state': 'invitation-sent', 'state': 'invitation', 'invitation_key': 'DUJiyfRgH8sjY2qFwGXwaM99SYY6oYC8kGEj5KAfxgM9', 'their_role': 'invitee'}\n",
      "----------------------------------------------------------\n",
      "Connection Webhook Event Received\n",
      "Connection ID :  0483f35d-ba37-4ed3-bfc8-04a36db5182a\n",
      "State :  request\n",
      "Routing State :  none\n",
      "Their Role :  invitee\n",
      "----------------------------------------------------------\n",
      "{'accept': 'auto', 'connection_id': '0483f35d-ba37-4ed3-bfc8-04a36db5182a', 'routing_state': 'none', 'invitation_mode': 'once', 'their_label': 'Demo Participant', 'updated_at': '2021-05-28 16:42:56.202737Z', 'created_at': '2021-05-28 16:42:56.186728Z', 'my_did': '3tw6GEzCjL1TzzEXMKGD2v', 'rfc23_state': 'request-received', 'state': 'request', 'invitation_key': 'DUJiyfRgH8sjY2qFwGXwaM99SYY6oYC8kGEj5KAfxgM9', 'their_role': 'invitee', 'their_did': '3GiB9d8fyLtABUNNDmWnKA'}\n",
      "----------------------------------------------------------\n",
      "Connection Webhook Event Received\n",
      "Connection ID :  0483f35d-ba37-4ed3-bfc8-04a36db5182a\n",
      "State :  response\n",
      "Routing State :  none\n",
      "Their Role :  invitee\n",
      "----------------------------------------------------------\n",
      "{'accept': 'auto', 'connection_id': '0483f35d-ba37-4ed3-bfc8-04a36db5182a', 'routing_state': 'none', 'invitation_mode': 'once', 'their_label': 'Demo Participant', 'updated_at': '2021-05-28 16:42:56.219900Z', 'created_at': '2021-05-28 16:42:56.186728Z', 'my_did': '3tw6GEzCjL1TzzEXMKGD2v', 'rfc23_state': 'response-sent', 'state': 'response', 'invitation_key': 'DUJiyfRgH8sjY2qFwGXwaM99SYY6oYC8kGEj5KAfxgM9', 'their_role': 'invitee', 'their_did': '3GiB9d8fyLtABUNNDmWnKA'}\n",
      "----------------------------------------------------------\n",
      "Connection Webhook Event Received\n",
      "Connection ID :  0483f35d-ba37-4ed3-bfc8-04a36db5182a\n",
      "State :  active\n",
      "Routing State :  none\n",
      "Their Role :  invitee\n",
      "----------------------------------------------------------\n",
      "{'accept': 'auto', 'connection_id': '0483f35d-ba37-4ed3-bfc8-04a36db5182a', 'routing_state': 'none', 'invitation_mode': 'once', 'their_label': 'Demo Participant', 'updated_at': '2021-05-28 16:42:56.935195Z', 'created_at': '2021-05-28 16:42:56.186728Z', 'my_did': '3tw6GEzCjL1TzzEXMKGD2v', 'rfc23_state': 'completed', 'state': 'active', 'invitation_key': 'DUJiyfRgH8sjY2qFwGXwaM99SYY6oYC8kGEj5KAfxgM9', 'their_role': 'invitee', 'their_did': '3GiB9d8fyLtABUNNDmWnKA'}\n",
      "\u001b[1m\u001b[32mConnection ID: 0483f35d-ba37-4ed3-bfc8-04a36db5182a is now active.\u001b[0m\n",
      "\n",
      "---------------------------------------------------\n",
      "\n",
      "Handle Issue Credential Webhook\n",
      "Connection ID : 0483f35d-ba37-4ed3-bfc8-04a36db5182a\n",
      "Credential exchange ID : a853a5e7-3926-4b37-8e2e-32cbc7cf5c66\n",
      "Agent Protocol Role :  issuer\n",
      "Protocol State :  proposal_received\n",
      "\n",
      "---------------------------------------------------\n",
      "\n",
      "Proposal Comment : Please can you issue me this\n",
      "----------------------------------------------------------\n",
      "Connection Webhook Event Received\n",
      "Connection ID :  2baea4e5-47a8-4036-9b80-94c5c2d1bfe5\n",
      "State :  invitation\n",
      "Routing State :  none\n",
      "Their Role :  invitee\n",
      "----------------------------------------------------------\n",
      "{'accept': 'auto', 'connection_id': '2baea4e5-47a8-4036-9b80-94c5c2d1bfe5', 'routing_state': 'none', 'invitation_mode': 'once', 'updated_at': '2021-05-28 16:45:38.496983Z', 'created_at': '2021-05-28 16:45:38.496983Z', 'my_did': 'EHLtji6mWjTkhMFAdq2qBT', 'rfc23_state': 'invitation-sent', 'state': 'invitation', 'invitation_key': 'DUJiyfRgH8sjY2qFwGXwaM99SYY6oYC8kGEj5KAfxgM9', 'their_role': 'invitee'}\n",
      "----------------------------------------------------------\n",
      "Connection Webhook Event Received\n",
      "Connection ID :  2baea4e5-47a8-4036-9b80-94c5c2d1bfe5\n",
      "State :  request\n",
      "Routing State :  none\n",
      "Their Role :  invitee\n",
      "----------------------------------------------------------\n",
      "{'accept': 'auto', 'connection_id': '2baea4e5-47a8-4036-9b80-94c5c2d1bfe5', 'routing_state': 'none', 'invitation_mode': 'once', 'their_label': 'Demo Participant', 'updated_at': '2021-05-28 16:45:38.513479Z', 'created_at': '2021-05-28 16:45:38.496983Z', 'my_did': 'EHLtji6mWjTkhMFAdq2qBT', 'rfc23_state': 'request-received', 'state': 'request', 'invitation_key': 'DUJiyfRgH8sjY2qFwGXwaM99SYY6oYC8kGEj5KAfxgM9', 'their_role': 'invitee', 'their_did': 'KT8p1M9c2GBS3vD9cBGuzc'}\n",
      "----------------------------------------------------------\n",
      "Connection Webhook Event Received\n",
      "Connection ID :  2baea4e5-47a8-4036-9b80-94c5c2d1bfe5\n",
      "State :  response\n",
      "Routing State :  none\n",
      "Their Role :  invitee\n",
      "----------------------------------------------------------\n",
      "{'accept': 'auto', 'connection_id': '2baea4e5-47a8-4036-9b80-94c5c2d1bfe5', 'routing_state': 'none', 'invitation_mode': 'once', 'their_label': 'Demo Participant', 'updated_at': '2021-05-28 16:45:38.532352Z', 'created_at': '2021-05-28 16:45:38.496983Z', 'my_did': 'EHLtji6mWjTkhMFAdq2qBT', 'rfc23_state': 'response-sent', 'state': 'response', 'invitation_key': 'DUJiyfRgH8sjY2qFwGXwaM99SYY6oYC8kGEj5KAfxgM9', 'their_role': 'invitee', 'their_did': 'KT8p1M9c2GBS3vD9cBGuzc'}\n",
      "----------------------------------------------------------\n",
      "Connection Webhook Event Received\n",
      "Connection ID :  2baea4e5-47a8-4036-9b80-94c5c2d1bfe5\n",
      "State :  active\n",
      "Routing State :  none\n",
      "Their Role :  invitee\n",
      "----------------------------------------------------------\n",
      "{'accept': 'auto', 'connection_id': '2baea4e5-47a8-4036-9b80-94c5c2d1bfe5', 'routing_state': 'none', 'invitation_mode': 'once', 'their_label': 'Demo Participant', 'updated_at': '2021-05-28 16:45:39.148622Z', 'created_at': '2021-05-28 16:45:38.496983Z', 'my_did': 'EHLtji6mWjTkhMFAdq2qBT', 'rfc23_state': 'completed', 'state': 'active', 'invitation_key': 'DUJiyfRgH8sjY2qFwGXwaM99SYY6oYC8kGEj5KAfxgM9', 'their_role': 'invitee', 'their_did': 'KT8p1M9c2GBS3vD9cBGuzc'}\n",
      "\u001b[1m\u001b[32mConnection ID: 2baea4e5-47a8-4036-9b80-94c5c2d1bfe5 is now active.\u001b[0m\n",
      "\n",
      "---------------------------------------------------\n",
      "\n",
      "Handle Issue Credential Webhook\n",
      "Connection ID : 2baea4e5-47a8-4036-9b80-94c5c2d1bfe5\n",
      "Credential exchange ID : 57a633a6-ca19-44df-be16-5c10bc4ea516\n",
      "Agent Protocol Role :  issuer\n",
      "Protocol State :  proposal_received\n",
      "\n",
      "---------------------------------------------------\n",
      "\n",
      "Proposal Comment : Please can you issue me this\n",
      "\n",
      "---------------------------------------------------\n",
      "\n",
      "Handle Issue Credential Webhook\n",
      "Connection ID : 2baea4e5-47a8-4036-9b80-94c5c2d1bfe5\n",
      "Credential exchange ID : 63508f8a-f6f0-4500-bb2b-a226dd28e411\n",
      "Agent Protocol Role :  issuer\n",
      "Protocol State :  proposal_received\n",
      "\n",
      "---------------------------------------------------\n",
      "\n",
      "Proposal Comment : Please can you issue me this\n",
      "[{'name': 'Event Name', 'value': 'Hyperledger Global Forum 2021'}, {'name': 'Participant', 'value': 'Wip'}, {'name': 'Description', 'value': 'Some dis\\n Thanks for attending!'}, {'name': 'Date', 'value': '2021-05-28'}]\n",
      "\n",
      "---------------------------------------------------\n",
      "\n",
      "Handle Issue Credential Webhook\n",
      "Connection ID : 2baea4e5-47a8-4036-9b80-94c5c2d1bfe5\n",
      "Credential exchange ID : e5b76625-37cf-46d1-addb-f0411d3bf6bb\n",
      "Agent Protocol Role :  issuer\n",
      "Protocol State :  offer_sent\n",
      "\n",
      "---------------------------------------------------\n",
      "\n",
      "Offering credential with attributes  : [{'name': 'Event Name', 'value': 'Hyperledger Global Forum 2021'}, {'name': 'Participant', 'value': 'Wip'}, {'name': 'Description', 'value': 'Some dis\\n Thanks for attending!'}, {'name': 'Date', 'value': '2021-05-28'}]\n",
      "\n",
      "---------------------------------------------------\n",
      "\n",
      "Handle Issue Credential Webhook\n",
      "Connection ID : 2baea4e5-47a8-4036-9b80-94c5c2d1bfe5\n",
      "Credential exchange ID : e5b76625-37cf-46d1-addb-f0411d3bf6bb\n",
      "Agent Protocol Role :  issuer\n",
      "Protocol State :  request_received\n",
      "\n",
      "---------------------------------------------------\n",
      "\n",
      "Request for credential received\n",
      "\n",
      "---------------------------------------------------\n",
      "\n",
      "Handle Issue Credential Webhook\n",
      "Connection ID : 2baea4e5-47a8-4036-9b80-94c5c2d1bfe5\n",
      "Credential exchange ID : e5b76625-37cf-46d1-addb-f0411d3bf6bb\n",
      "Agent Protocol Role :  issuer\n",
      "Protocol State :  credential_issued\n",
      "\n",
      "---------------------------------------------------\n",
      "\n",
      "\n",
      "---------------------------------------------------\n",
      "\n",
      "Handle Issue Credential Webhook\n",
      "Connection ID : 2baea4e5-47a8-4036-9b80-94c5c2d1bfe5\n",
      "Credential exchange ID : e5b76625-37cf-46d1-addb-f0411d3bf6bb\n",
      "Agent Protocol Role :  issuer\n",
      "Protocol State :  credential_acked\n",
      "\n",
      "---------------------------------------------------\n",
      "\n"
     ]
    }
   ],
   "source": [
    "# Alias for invited connection\n",
    "alias = \"Participant\"\n",
    "auto_accept = \"true\"\n",
    "# Use public DID?\n",
    "public = \"false\"\n",
    "# Should this invitation be usable by multiple invitees?\n",
    "multi_use = \"true\"\n",
    "\n",
    "invitation_response = await agent_controller.connections.create_invitation(alias, auto_accept, public, multi_use)\n",
    "# Is equivalent to above. Arguments are optionally\n",
    "# invitation_response = await agent_controller.connections.create_invitation()\n",
    "\n",
    "\n",
    "\n",
    "# You will use this identifier to issue a credential across this connection\n",
    "connection_id = invitation_response[\"connection_id\"]"
   ]
  },
  {
   "cell_type": "markdown",
   "id": "9085938e",
   "metadata": {},
   "source": [
    "## Share Invitation Object with External Agent"
   ]
  },
  {
   "cell_type": "code",
   "execution_count": null,
   "id": "975c515b",
   "metadata": {},
   "outputs": [],
   "source": [
    "invitation = invitation_response[\"invitation\"]\n",
    "## Copy this output\n",
    "print(invitation)"
   ]
  },
  {
   "cell_type": "markdown",
   "id": "1c1a00f2",
   "metadata": {},
   "source": [
    "## Display Invite as QR Code\n",
    "\n",
    "This is useful if you wish to issue a credential to a mobile wallet."
   ]
  },
  {
   "cell_type": "code",
   "execution_count": null,
   "id": "dc55614c",
   "metadata": {},
   "outputs": [],
   "source": [
    "import qrcode\n",
    "# Link for connection invitation\n",
    "invitation_url = invitation_response[\"invitation_url\"]\n",
    "# Creating an instance of qrcode\n",
    "qr = qrcode.QRCode(\n",
    "        version=1,\n",
    "        box_size=5,\n",
    "        border=5)\n",
    "qr.add_data(invitation_url)\n",
    "qr.make(fit=True)\n",
    "img = qr.make_image(fill='black', back_color='white')\n",
    "img"
   ]
  },
  {
   "cell_type": "markdown",
   "id": "b483ede1",
   "metadata": {},
   "source": [
    "## Terminate Controller\n",
    "\n",
    "Whenever you have finished with this notebook, be sure to terminate the controller. This is especially important if your business logic runs across multiple notebooks."
   ]
  },
  {
   "cell_type": "code",
   "execution_count": 12,
   "id": "ded8672a",
   "metadata": {},
   "outputs": [],
   "source": [
    "await agent_controller.terminate()"
   ]
  },
  {
   "cell_type": "code",
   "execution_count": null,
   "id": "76cd2bd0",
   "metadata": {},
   "outputs": [],
   "source": []
  }
 ],
 "metadata": {
  "kernelspec": {
   "display_name": "Python 3",
   "language": "python",
   "name": "python3"
  },
  "language_info": {
   "codemirror_mode": {
    "name": "ipython",
    "version": 3
   },
   "file_extension": ".py",
   "mimetype": "text/x-python",
   "name": "python",
   "nbconvert_exporter": "python",
   "pygments_lexer": "ipython3",
   "version": "3.7.6"
  }
 },
 "nbformat": 4,
 "nbformat_minor": 5
}
