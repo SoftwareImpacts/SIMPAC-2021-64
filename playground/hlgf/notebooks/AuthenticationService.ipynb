{
 "cells": [
  {
   "cell_type": "markdown",
   "id": "31fc38bc",
   "metadata": {},
   "source": [
    "# Authentication Service \n",
    "\n",
    "## Use this to make connections and challenge them to present specific attributes\n",
    "\n",
    "## Challenge yourself to present the workshop attendance credential if you received one on your mobile\n",
    "\n",
    "Customise these notebooks or the code within the libs folder as you like. It should be fairly easy to combine this code with the messaging service. \n",
    "\n",
    "Also check out the recipes folder for some basic templates for typical agent flows using the aries-cloudcontroller"
   ]
  },
  {
   "cell_type": "markdown",
   "id": "b1e869e3",
   "metadata": {},
   "source": [
    "### Imports"
   ]
  },
  {
   "cell_type": "code",
   "execution_count": 1,
   "id": "68552dd2",
   "metadata": {},
   "outputs": [],
   "source": [
    "from aries_cloudcontroller import AriesAgentController\n",
    "from libs.authentication_service import AuthenticationService\n",
    "import os\n",
    "import time\n",
    "from termcolor import colored"
   ]
  },
  {
   "cell_type": "markdown",
   "id": "bc45adce",
   "metadata": {},
   "source": [
    "### Initialise the Agent Controller"
   ]
  },
  {
   "cell_type": "code",
   "execution_count": 2,
   "id": "8a68ae49",
   "metadata": {},
   "outputs": [
    {
     "name": "stdout",
     "output_type": "stream",
     "text": [
      "Initialising a controller with admin api at http://hlgf-agent:3021 and an api key of adminApiKey\n"
     ]
    }
   ],
   "source": [
    "api_key = os.getenv(\"ACAPY_ADMIN_API_KEY\")\n",
    "admin_url = os.getenv(\"ADMIN_URL\")\n",
    "\n",
    "print(f\"Initialising a controller with admin api at {admin_url} and an api key of {api_key}\")\n",
    "agent_controller = AriesAgentController(admin_url,api_key)"
   ]
  },
  {
   "cell_type": "markdown",
   "id": "9c581cf3",
   "metadata": {},
   "source": [
    "### Start a Webhook Server"
   ]
  },
  {
   "cell_type": "code",
   "execution_count": 3,
   "id": "9949f134",
   "metadata": {},
   "outputs": [
    {
     "name": "stdout",
     "output_type": "stream",
     "text": [
      "Listening for webhooks from agent at http://0.0.0.0:3010\n"
     ]
    }
   ],
   "source": [
    "webhook_port = int(os.getenv(\"WEBHOOK_PORT\"))\n",
    "webhook_host = \"0.0.0.0\"\n",
    "\n",
    "await agent_controller.init_webhook_server(webhook_host, webhook_port)\n",
    "\n",
    "print(f\"Listening for webhooks from agent at http://{webhook_host}:{webhook_port}\")"
   ]
  },
  {
   "cell_type": "markdown",
   "id": "2746948b",
   "metadata": {},
   "source": [
    "## Iniitalise the AuthenticationService\n"
   ]
  },
  {
   "cell_type": "code",
   "execution_count": 4,
   "id": "dbd5c99e",
   "metadata": {},
   "outputs": [],
   "source": [
    "authentication_service = AuthenticationService(agent_controller)"
   ]
  },
  {
   "cell_type": "markdown",
   "id": "36926cf5",
   "metadata": {},
   "source": [
    "## Define Your Presentation Request Object\n",
    "\n",
    "The one below is for the Aries ACA ACC Jupyter Playground Demo Participation credential. It also requests a self attested attribute for your nickname"
   ]
  },
  {
   "cell_type": "code",
   "execution_count": 5,
   "id": "958e466d",
   "metadata": {},
   "outputs": [],
   "source": [
    "# We add a constraint that the attribute must originate from this schema\n",
    "schema_id = \"W4t2Pa4XR1qBDvwhVcn4CY:2:Aries ACA ACC Jupyter Playground Demo Participation:0.0.1\"\n",
    "\n",
    "\n",
    "# Define the list of attributes and restrictions under which each attribute was issued that a prover must satisfy with a presentation\n",
    "# NOTE: if identifying a schema or credential definition then the attribute name must be contained within the corresponding schema.\n",
    "req_attrs = [\n",
    "    {\"name\": \"Participant\", \"restrictions\": [{\"schema_id\": schema_id}]},\n",
    "    # A self attested attribute. No restrictions so the prover can attest to any value for this\n",
    "    {\"name\": \"nickname\", \"restrictions\": []}\n",
    "]\n",
    "\n",
    "# We could extend this to request the name attribute aswell if we wanted.\n",
    "\n",
    "\n",
    "playground_proof = {\n",
    "    \"name\": \"Proof of Playground\",\n",
    "    \"version\": \"1.0\",\n",
    "    \"requested_attributes\": {\n",
    "        # They generally follow this uuid pattern. Unique identifier for attribute within context of this proof request\n",
    "        # Note that req_attr['name'] gets the attribute name of each object. E.g. domain and name in this case\n",
    "        f\"0_{req_attr['name']}_uuid\":\n",
    "        req_attr for req_attr in req_attrs\n",
    "    },\n",
    "    # Predicates allow us to specify range proofs or set membership on attributes. For example greater than 10.\n",
    "    # We will ignore these for now.\n",
    "    \"requested_predicates\": {\n",
    "#         f\"0_{req_pred['name']}_GE_uuid\":\n",
    "#         req_pred for req_pred in req_preds\n",
    "    },\n",
    "    # You can also request the entire proof request be non-revoked\n",
    "    \"non_revoked\":  {\"to\": int(time.time())}\n",
    "}"
   ]
  },
  {
   "cell_type": "markdown",
   "id": "8cd0407e",
   "metadata": {},
   "source": [
    "## Create Invitation using AuthenticationService for Mobile\n"
   ]
  },
  {
   "cell_type": "code",
   "execution_count": 6,
   "id": "cff6c022",
   "metadata": {},
   "outputs": [
    {
     "name": "stdout",
     "output_type": "stream",
     "text": [
      "----------------------------------------------------------\n",
      "Connection Webhook Event Received\n",
      "Connection ID :  1c17a596-2f28-41f7-99b5-8532f6dbf9d4\n",
      "State :  invitation\n",
      "Routing State :  none\n",
      "Their Role :  invitee\n",
      "----------------------------------------------------------\n"
     ]
    }
   ],
   "source": [
    "response = authentication_service.new_connection_invitation(playground_proof, for_mobile=True)\n",
    "connection_id = response[\"connection_id\"]\n",
    "invitation_url = response[\"invitation_url\"]"
   ]
  },
  {
   "cell_type": "markdown",
   "id": "ad249976",
   "metadata": {},
   "source": [
    "## Display Invite as QR Code\n",
    "\n",
    "This is useful if you wish to establish a connection with a mobile wallet."
   ]
  },
  {
   "cell_type": "code",
   "execution_count": 7,
   "id": "eef6b9bb",
   "metadata": {},
   "outputs": [
    {
     "data": {
      "image/png": "[encoded data removed]",
      "text/plain": [
       "<qrcode.image.pil.PilImage at 0x7f3a25134650>"
      ]
     },
     "execution_count": 7,
     "metadata": {},
     "output_type": "execute_result"
    }
   ],
   "source": [
    "import qrcode\n",
    "# Link for connection invitation\n",
    "invitation_url = response[\"invitation_url\"]\n",
    "# Creating an instance of qrcode\n",
    "qr = qrcode.QRCode(\n",
    "        version=1,\n",
    "        box_size=5,\n",
    "        border=5)\n",
    "qr.add_data(invitation_url)\n",
    "qr.make(fit=True)\n",
    "img = qr.make_image(fill='black', back_color='white')\n",
    "img"
   ]
  },
  {
   "cell_type": "markdown",
   "id": "40fc74ea",
   "metadata": {},
   "source": [
    "## Create Inivtation JSON using AuthenticationService\n",
    "\n",
    "E.g. if you want to connect with another agent running through this notebook interface"
   ]
  },
  {
   "cell_type": "code",
   "execution_count": 8,
   "id": "ea1d2de9",
   "metadata": {},
   "outputs": [
    {
     "name": "stdout",
     "output_type": "stream",
     "text": [
      "----------------------------------------------------------\n",
      "Connection Webhook Event Received\n",
      "Connection ID :  e453dd1b-2f77-4a03-9935-088842e91732\n",
      "State :  invitation\n",
      "Routing State :  none\n",
      "Their Role :  invitee\n",
      "----------------------------------------------------------\n",
      "----------------------------------------------------------------------------------------------------\n",
      "\n",
      "Share this invite object with another entity\n",
      "\n",
      "{'@type': 'did:sov:BzCbsNYhMrjHiqZDTUASHg;spec/connections/1.0/invitation', '@id': 'a0dd1e7f-1c76-43b0-8303-85f2ca1c137a', 'recipientKeys': ['EqLEBoSnqrKS68N9RnWNvXr9NfkGvrj79q8ZPtKWMpGg'], 'serviceEndpoint': 'http://a7e8d54c0b8f.ngrok.io', 'label': 'Hyperledger Global Forum'}\n",
      "\n",
      "\n",
      "----------------------------------------------------------------------------------------------------\n"
     ]
    }
   ],
   "source": [
    "response = authentication_service.new_connection_invitation(playground_proof)\n",
    "connection_id = response[\"connection_id\"]\n",
    "invitation = response[\"invitation\"]"
   ]
  },
  {
   "cell_type": "markdown",
   "id": "94ab8163",
   "metadata": {},
   "source": [
    "## Get Connections for Authentication Service\n",
    "\n"
   ]
  },
  {
   "cell_type": "code",
   "execution_count": 9,
   "id": "2b03a71b",
   "metadata": {},
   "outputs": [
    {
     "name": "stdout",
     "output_type": "stream",
     "text": [
      "Connection ID :  1c17a596-2f28-41f7-99b5-8532f6dbf9d4\n",
      "Is Active :  False\n",
      "Is Trusted :  False\n",
      "Auth Policy Name :  Proof of Playground\n",
      "Verified Attributes :  []\n",
      "Self Attested Attributes :  []\n",
      "Connection ID :  e453dd1b-2f77-4a03-9935-088842e91732\n",
      "Is Active :  False\n",
      "Is Trusted :  False\n",
      "Auth Policy Name :  Proof of Playground\n",
      "Verified Attributes :  []\n",
      "Self Attested Attributes :  []\n"
     ]
    }
   ],
   "source": [
    "connections = authentication_service.get_connections()\n",
    "for connection in connections:\n",
    "    print(\"Connection ID : \", connection.connection_id)\n",
    "    print(\"Is Active : \", connection.is_active.done() and connection.is_active.result() == True)\n",
    "    print(\"Is Trusted : \", connection.is_active.done() and connection.is_trusted.done() and connection.is_trusted.result() == True)\n",
    "    print(\"Auth Policy Name : \" , connection.auth_policy[\"name\"])\n",
    "    print(\"Verified Attributes : \", connection.verified_attributes)\n",
    "    print(\"Self Attested Attributes : \", connection.self_attested_attributes)"
   ]
  },
  {
   "cell_type": "markdown",
   "id": "33f02c6f",
   "metadata": {},
   "source": [
    "## Terminate Controller\n",
    "\n",
    "Whenever you have finished with this notebook, be sure to terminate the controller. This is especially important if your business logic runs across multiple notebooks."
   ]
  },
  {
   "cell_type": "code",
   "execution_count": null,
   "id": "28c99f91",
   "metadata": {},
   "outputs": [],
   "source": [
    "await agent_controller.terminate()"
   ]
  },
  {
   "cell_type": "code",
   "execution_count": null,
   "id": "e381eb4f",
   "metadata": {},
   "outputs": [],
   "source": []
  }
 ],
 "metadata": {
  "kernelspec": {
   "display_name": "Python 3",
   "language": "python",
   "name": "python3"
  },
  "language_info": {
   "codemirror_mode": {
    "name": "ipython",
    "version": 3
   },
   "file_extension": ".py",
   "mimetype": "text/x-python",
   "name": "python",
   "nbconvert_exporter": "python",
   "pygments_lexer": "ipython3",
   "version": "3.7.6"
  }
 },
 "nbformat": 4,
 "nbformat_minor": 5
}
