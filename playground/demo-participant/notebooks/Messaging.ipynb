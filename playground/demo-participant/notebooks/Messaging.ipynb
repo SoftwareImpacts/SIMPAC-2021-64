{
 "cells": [
  {
   "cell_type": "markdown",
   "id": "910dfa45",
   "metadata": {},
   "source": [
    "# Messaging\n"
   ]
  },
  {
   "cell_type": "markdown",
   "id": "0bed2554",
   "metadata": {},
   "source": [
    "### Imports"
   ]
  },
  {
   "cell_type": "code",
   "execution_count": 1,
   "id": "406912c4",
   "metadata": {},
   "outputs": [],
   "source": [
    "from aries_cloudcontroller import AriesAgentController\n",
    "import os\n",
    "from termcolor import colored\n",
    "import asyncio\n",
    "\n",
    "\n",
    "from libs.messaging_service import MessagingService"
   ]
  },
  {
   "cell_type": "markdown",
   "id": "9a651a38",
   "metadata": {},
   "source": [
    "### Initialise the Agent Controller"
   ]
  },
  {
   "cell_type": "code",
   "execution_count": 2,
   "id": "2f7d40bb",
   "metadata": {},
   "outputs": [
    {
     "name": "stdout",
     "output_type": "stream",
     "text": [
      "Initialising a controller with admin api at http://demo-participant-agent:3021 and an api key of demo-participantsSecretApiKey\n"
     ]
    }
   ],
   "source": [
    "api_key = os.getenv(\"ACAPY_ADMIN_API_KEY\")\n",
    "admin_url = os.getenv(\"ADMIN_URL\")\n",
    "\n",
    "print(f\"Initialising a controller with admin api at {admin_url} and an api key of {api_key}\")\n",
    "agent_controller = AriesAgentController(admin_url,api_key)"
   ]
  },
  {
   "cell_type": "markdown",
   "id": "19451dbb",
   "metadata": {},
   "source": [
    "### Start a Webhook Server"
   ]
  },
  {
   "cell_type": "code",
   "execution_count": 3,
   "id": "657d5091",
   "metadata": {},
   "outputs": [
    {
     "name": "stdout",
     "output_type": "stream",
     "text": [
      "Listening for webhooks from agent at http://0.0.0.0:3010\n"
     ]
    }
   ],
   "source": [
    "webhook_port = int(os.getenv(\"WEBHOOK_PORT\"))\n",
    "webhook_host = \"0.0.0.0\"\n",
    "\n",
    "await agent_controller.init_webhook_server(webhook_host, webhook_port)\n",
    "\n",
    "print(f\"Listening for webhooks from agent at http://{webhook_host}:{webhook_port}\")"
   ]
  },
  {
   "cell_type": "markdown",
   "id": "6ac0d025",
   "metadata": {},
   "source": [
    "## Instatiate Messaging Service"
   ]
  },
  {
   "cell_type": "code",
   "execution_count": 4,
   "id": "9d65c619",
   "metadata": {},
   "outputs": [],
   "source": [
    "messaging_service = MessagingService(agent_controller)"
   ]
  },
  {
   "cell_type": "markdown",
   "id": "375d9542",
   "metadata": {},
   "source": [
    "## Add Contact"
   ]
  },
  {
   "cell_type": "markdown",
   "id": "cf2804e5",
   "metadata": {},
   "source": [
    "### Either from Invitation Shared"
   ]
  },
  {
   "cell_type": "code",
   "execution_count": null,
   "id": "8037a36f",
   "metadata": {},
   "outputs": [],
   "source": [
    "invitation = {\"@type\": \"did:sov:BzCbsNYhMrjHiqZDTUASHg;spec/connections/1.0/invitation\", \"@id\": \"a6620684-965c-4f35-90e8-35e6093af9f0\", \"label\": \"Hyperledger Global Forum\", \"recipientKeys\": [\"B6daDADbT7RUUB3Qkap4QnJDEYVhXjHnAboRevBQCCC1\"], \"serviceEndpoint\": \"https://3b29be66da95.ngrok.io\"}\n"
   ]
  },
  {
   "cell_type": "code",
   "execution_count": null,
   "id": "85370145",
   "metadata": {},
   "outputs": [],
   "source": [
    "new_contact_id = messaging_service.accept_contact_invitation(invitation, \"HLGF\")"
   ]
  },
  {
   "cell_type": "markdown",
   "id": "a6979d60",
   "metadata": {},
   "source": [
    "### Or by Creating and Sharing an Invite"
   ]
  },
  {
   "cell_type": "code",
   "execution_count": 6,
   "id": "9f0187fb",
   "metadata": {},
   "outputs": [
    {
     "name": "stdout",
     "output_type": "stream",
     "text": [
      "Contact with ID f0f0f9e0-0ac3-4798-aa20-54fed69e98bc and alias HLGF added\n",
      "----------------------------------------------------------------------------------------------------\n",
      "\n",
      "Share this invite object with another entity you wish to add as a contact under alias HLGF\n",
      "\n",
      "{\"@type\": \"did:sov:BzCbsNYhMrjHiqZDTUASHg;spec/connections/1.0/invitation\", \"@id\": \"e751243f-9db3-4db8-bd66-ca252fda8289\", \"label\": \"Demo Participant\", \"recipientKeys\": [\"9vBrodjt67R2psV88YjPVXPxdTF3v8PFjdXHoLVUjg8x\"], \"serviceEndpoint\": \"https://0f8e21a7a624.ngrok.io\"}\n",
      "\n",
      "\n",
      "----------------------------------------------------------------------------------------------------\n",
      "\u001b[1m\u001b[32mContact with ID: f0f0f9e0-0ac3-4798-aa20-54fed69e98bc and alias HLGF is now active.\u001b[0m\n",
      "Message received from connection f0f0f9e0-0ac3-4798-aa20-54fed69e98bc with alias HLGF\n"
     ]
    }
   ],
   "source": [
    "alias = \"HLGF\"\n",
    "response = messaging_service.new_contact_invite(alias)\n",
    "\n",
    "# If you want to display as Q.R for example\n",
    "invitation = response[\"invitation\"]\n",
    "\n",
    "new_contact_id = response[\"connection_id\"]"
   ]
  },
  {
   "cell_type": "markdown",
   "id": "d413be6e",
   "metadata": {},
   "source": [
    "## Send Message to Contact by Connection ID"
   ]
  },
  {
   "cell_type": "code",
   "execution_count": 7,
   "id": "933eb827",
   "metadata": {},
   "outputs": [],
   "source": [
    "some_arbitrary_sized_message = \"Some second super super super great test message\"\n",
    "messaging_service.send_message(new_contact_id, some_arbitrary_sized_message)"
   ]
  },
  {
   "cell_type": "markdown",
   "id": "82b76ba5",
   "metadata": {},
   "source": [
    "## Display Inbox for Contact"
   ]
  },
  {
   "cell_type": "code",
   "execution_count": 8,
   "id": "fcb742d1",
   "metadata": {},
   "outputs": [
    {
     "name": "stdout",
     "output_type": "stream",
     "text": [
      "--------------------------------------------------\n",
      "Inbox for Contact HLGF \n",
      "\n",
      "--------------------------------------------------\n",
      "Connection ID : f0f0f9e0-0ac3-4798-aa20-54fed69e98bc \n",
      "Agent Label : Hyperledger Global Forum \n",
      "Total Messages : 2\n",
      "\n",
      "--------------------------------------------------\n",
      "Wed Jun  2 13:39:51 2021\n",
      "Hello \n",
      "--------------------------------------------------\n",
      "Wed Jun  2 13:39:55 2021\n",
      "                         Some second super super super \n",
      "                         great test message \n",
      "--------------------------------------------------\n"
     ]
    }
   ],
   "source": [
    "messaging_service.display_inbox_for_contact(new_contact_id)"
   ]
  },
  {
   "cell_type": "markdown",
   "id": "2c187663",
   "metadata": {},
   "source": [
    "## Get Contacts"
   ]
  },
  {
   "cell_type": "code",
   "execution_count": 9,
   "id": "7febbd37",
   "metadata": {},
   "outputs": [
    {
     "name": "stdout",
     "output_type": "stream",
     "text": [
      "--------------------------------------------------\n",
      "1 Contacts\n",
      "--------------------------------------------------\n",
      "Contact HLGF with ID f0f0f9e0-0ac3-4798-aa20-54fed69e98bc \n",
      "Status : ACTIVEMessages 2 \n",
      "--------------------------------------------------\n",
      "\n"
     ]
    }
   ],
   "source": [
    "messaging_service.view_inbox()"
   ]
  },
  {
   "cell_type": "code",
   "execution_count": null,
   "id": "169bd879",
   "metadata": {},
   "outputs": [],
   "source": [
    "response = messaging_service.get_contacts()\n",
    "for contact in response:\n",
    "    print(f\"{contact.alias} : {contact.connection_id}\")"
   ]
  },
  {
   "cell_type": "markdown",
   "id": "d3af91a8",
   "metadata": {},
   "source": [
    "## Terminate Controller\n",
    "\n",
    "Whenever you have finished with this notebook, be sure to terminate the controller. This is especially important if your business logic runs across multiple notebooks."
   ]
  },
  {
   "cell_type": "code",
   "execution_count": null,
   "id": "37e403be",
   "metadata": {},
   "outputs": [],
   "source": [
    "await agent_controller.terminate()"
   ]
  },
  {
   "cell_type": "code",
   "execution_count": null,
   "id": "ca0cbc87",
   "metadata": {},
   "outputs": [],
   "source": []
  }
 ],
 "metadata": {
  "kernelspec": {
   "display_name": "Python 3",
   "language": "python",
   "name": "python3"
  },
  "language_info": {
   "codemirror_mode": {
    "name": "ipython",
    "version": 3
   },
   "file_extension": ".py",
   "mimetype": "text/x-python",
   "name": "python",
   "nbconvert_exporter": "python",
   "pygments_lexer": "ipython3",
   "version": "3.7.6"
  }
 },
 "nbformat": 4,
 "nbformat_minor": 5
}
